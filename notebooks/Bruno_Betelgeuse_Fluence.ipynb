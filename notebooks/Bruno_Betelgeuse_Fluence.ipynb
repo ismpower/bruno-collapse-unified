{
 "cells": [
  {
   "cell_type": "markdown",
   "id": "249cb430",
   "metadata": {},
   "source": [
    "# 🟥 Bruno Entropy Fluence — Betelgeuse (200 pc)\n",
    "\n",
    "This notebook simulates the entropy fluence at Earth from a core-collapse supernova at the distance of Betelgeuse, using the Nakazato 20 M☉ model. It calculates:\n",
    "- Cumulative neutrino energy output\n",
    "- Earth fluence over time\n",
    "- Bruno's entropy threshold crossing\n",
    "\n",
    "---\n"
   ]
  },
  {
   "cell_type": "code",
   "execution_count": null,
   "id": "1bfc9bfb",
   "metadata": {},
   "outputs": [],
   "source": [
    "import pandas as pd\n",
    "import numpy as np\n",
    "import matplotlib.pyplot as plt\n",
    "\n",
    "# Constants\n",
    "ERG_TO_JOULE = 1e-7\n",
    "DISTANCE_MPC = 0.0002  # 200 parsecs = 0.0002 Mpc\n",
    "DISTANCE_M = DISTANCE_MPC * 3.086e22  # meters\n",
    "BRUNO_THRESHOLD = 1e-5  # J/m²\n"
   ]
  },
  {
   "cell_type": "code",
   "execution_count": null,
   "id": "ebfd94d2",
   "metadata": {},
   "outputs": [],
   "source": [
    "# Load Nakazato 20 M☉ SN model\n",
    "file_path = \"intp2002.data\"  # Must be in same directory\n",
    "df = pd.read_csv(\n",
    "    file_path,\n",
    "    skiprows=1,\n",
    "    sep=r\"\\s+\",\n",
    "    names=[\"t_start\", \"t_end\", \"E_nue\", \"E_nueb\", \"E_nux\", \"N_nue\", \"N_nueb\", \"N_nux\"]\n",
    ")\n",
    "df[\"dt\"] = df[\"t_end\"] - df[\"t_start\"]\n"
   ]
  },
  {
   "cell_type": "code",
   "execution_count": null,
   "id": "f043aa14",
   "metadata": {},
   "outputs": [],
   "source": [
    "df[\"E_total_erg\"] = df[\"E_nue\"] + df[\"E_nueb\"] + df[\"E_nux\"]\n",
    "df[\"E_total_J\"] = df[\"E_total_erg\"] * ERG_TO_JOULE\n",
    "df[\"Cumulative_Energy_J\"] = df[\"E_total_J\"].cumsum()\n",
    "df[\"Fluence_J_per_m2\"] = df[\"Cumulative_Energy_J\"] / (4 * np.pi * DISTANCE_M**2)\n"
   ]
  },
  {
   "cell_type": "code",
   "execution_count": null,
   "id": "3fe0a6fc",
   "metadata": {},
   "outputs": [],
   "source": [
    "plt.figure(figsize=(10, 6))\n",
    "plt.plot(df[\"t_end\"], df[\"Fluence_J_per_m2\"], label=\"Betelgeuse Fluence @ 200 pc\")\n",
    "plt.axhline(BRUNO_THRESHOLD, color=\"red\", linestyle=\"--\", label=\"Bruno Threshold (1e-5 J/m²)\")\n",
    "plt.xlabel(\"Time Since Core Collapse (s)\")\n",
    "plt.ylabel(\"Fluence at Earth (J/m²)\")\n",
    "plt.yscale(\"log\")\n",
    "plt.title(\"Neutrino Entropy Fluence — Betelgeuse (200 pc)\")\n",
    "plt.grid(True, which=\"both\", linestyle=\"--\", alpha=0.5)\n",
    "plt.legend()\n",
    "plt.tight_layout()\n",
    "plt.show()\n"
   ]
  },
  {
   "cell_type": "code",
   "execution_count": null,
   "id": "97b85206",
   "metadata": {},
   "outputs": [],
   "source": [
    "cross_index = np.where(df[\"Fluence_J_per_m2\"] >= BRUNO_THRESHOLD)[0]\n",
    "bruno_trigger_time = df[\"t_end\"].iloc[cross_index[0]] if len(cross_index) > 0 else None\n",
    "print(f\"🛎️ Bruno triggers at: {bruno_trigger_time} seconds after core collapse\")\n"
   ]
  },
  {
   "cell_type": "code",
   "execution_count": null,
   "id": "9508afa6",
   "metadata": {},
   "outputs": [],
   "source": [
    "df[[\"t_start\", \"t_end\", \"dt\", \"E_total_J\", \"Cumulative_Energy_J\", \"Fluence_J_per_m2\"]].head(10).round(3)\n"
   ]
  }
 ],
 "metadata": {},
 "nbformat": 4,
 "nbformat_minor": 5
}
