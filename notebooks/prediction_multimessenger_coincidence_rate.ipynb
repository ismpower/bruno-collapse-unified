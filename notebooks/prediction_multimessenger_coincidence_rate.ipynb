{
 "cells": [
  {
   "cell_type": "code",
   "execution_count": 14,
   "id": "c58859a2-6a07-4d19-b5df-47922d04cc0c",
   "metadata": {},
   "outputs": [],
   "source": [
    "from pathlib import Path\n",
    "import pandas as pd\n",
    "\n",
    "# 🔧 Universal saver for tables/results\n",
    "def save_results(df, filename, subfolder=\"results\"):\n",
    "    \"\"\"\n",
    "    Save a DataFrame to the results/ directory inside the notebooks folder.\n",
    "\n",
    "    Parameters:\n",
    "    - df: DataFrame to save\n",
    "    - filename: e.g., 'triggered_sne.csv'\n",
    "    - subfolder: 'results' | 'figures' | 'tables'\n",
    "    \"\"\"\n",
    "    out_path = Path(\"results\" if subfolder == \"results\" else f\"../notebooks/{subfolder}\") / filename\n",
    "    out_path.parent.mkdir(parents=True, exist_ok=True)\n",
    "    df.to_csv(out_path, index=False)\n",
    "    print(f\"✅ Saved: {out_path.resolve()}\")\n",
    "\n"
   ]
  },
  {
   "cell_type": "markdown",
   "id": "6a33fe9a-6269-44e2-ad4e-385ed7ea99c8",
   "metadata": {},
   "source": [
    "# 📘 Notebook: prediction_multimessenger_coincidence_rate\n",
    "\n",
    "## Purpose:\n",
    "This notebook calculates and analyzes and quantify the rarity or expectation of real multimessenger coincidences across your 30+ years of data, contributing to the Bruno fluence prediction pipeline.\n",
    "\n",
    "## Output:\n",
    "- Saves results to: `notebooks/results/`\n",
    "- Saves plots to: `notebooks/figures/`\n",
    "- Saves tables to: `notebooks/tables/`\n",
    "\n",
    "_Last modified: 2024-04-10\n"
   ]
  },
  {
   "cell_type": "code",
   "execution_count": 15,
   "id": "8f0b2b50-ea9f-405e-89df-4f6904221709",
   "metadata": {},
   "outputs": [],
   "source": [
    "import pandas as pd\n",
    "\n",
    "# Bruno-positive supernovae\n",
    "bruno_df = pd.read_csv(\"../data/exports/full_supernovae_fluence.csv\")\n",
    "bruno_df = bruno_df[bruno_df[\"Bruno_Trigger\"] == True].copy()\n",
    "\n",
    "# Neutrino events\n",
    "neutrino_df = pd.read_csv(\"../data/raw/icecat.csv\")\n"
   ]
  },
  {
   "cell_type": "code",
   "execution_count": 16,
   "id": "39adee58-7dad-44f8-8d40-2354b6494011",
   "metadata": {},
   "outputs": [],
   "source": [
    "from astropy.coordinates import SkyCoord\n",
    "from astropy import units as u\n",
    "from datetime import datetime\n",
    "import numpy as np\n",
    "\n",
    "def mjd_from_iso(date_str):\n",
    "    try:\n",
    "        dt = pd.to_datetime(date_str)\n",
    "        jd = dt.to_julian_date()\n",
    "        return jd - 2400000.5\n",
    "    except:\n",
    "        return np.nan\n",
    "\n",
    "def match_sn_to_neutrinos(sn_df, nu_df, time_window_sec=500, angle_threshold_deg=5.0):\n",
    "    matches = []\n",
    "    if \"Bruno_Trigger\" in sn_df.columns:\n",
    "        sn_df = sn_df[sn_df[\"Bruno_Trigger\"] == True].copy()\n",
    "\n",
    "    sn_df[\"eventmjd\"] = sn_df[\"discover_date\"].apply(mjd_from_iso)\n",
    "\n",
    "    for _, sn in sn_df.iterrows():\n",
    "        sn_coord = SkyCoord(ra=sn[\"ra_deg\"] * u.deg, dec=sn[\"dec_deg\"] * u.deg)\n",
    "        for _, nu in nu_df.iterrows():\n",
    "            try:\n",
    "                delta_t = abs(sn[\"eventmjd\"] - nu[\"eventmjd\"]) * 86400\n",
    "                if delta_t > time_window_sec:\n",
    "                    continue\n",
    "                nu_coord = SkyCoord(ra=nu[\"ra_deg\"] * u.deg, dec=nu[\"dec_deg\"] * u.deg)\n",
    "                sep = sn_coord.separation(nu_coord).deg\n",
    "                if sep <= angle_threshold_deg:\n",
    "                    matches.append({\n",
    "                        \"sn_name\": sn[\"name\"],\n",
    "                        \"sn_date\": sn[\"discover_date\"],\n",
    "                        \"nu_name\": nu[\"name\"],\n",
    "                        \"delta_t_sec\": delta_t,\n",
    "                        \"angular_sep_deg\": sep\n",
    "                    })\n",
    "            except:\n",
    "                continue\n",
    "    return pd.DataFrame(matches)\n"
   ]
  },
  {
   "cell_type": "code",
   "execution_count": 17,
   "id": "bd6fc213-5642-4598-a9ed-a4f99c816165",
   "metadata": {},
   "outputs": [
    {
     "name": "stdout",
     "output_type": "stream",
     "text": [
      "✅ Saved: D:\\Bruno_Entropy_Project\\notebooks\\results\\bruno_neutrino_matches.csv\n",
      "🔢 Total matches found: 6\n"
     ]
    }
   ],
   "source": [
    "matches_df = match_sn_to_neutrinos(bruno_df, neutrino_df)\n",
    "save_results(matches_df, \"bruno_neutrino_matches.csv\")\n",
    "\n",
    "print(f\"🔢 Total matches found: {len(matches_df)}\")\n"
   ]
  },
  {
   "cell_type": "code",
   "execution_count": 41,
   "id": "7a33798e-1229-48bd-b466-0457b3f3566e",
   "metadata": {},
   "outputs": [
    {
     "name": "stdout",
     "output_type": "stream",
     "text": [
      "📆 Estimated match rate: 0.182 per year\n"
     ]
    }
   ],
   "source": [
    "bruno_df[\"clean_date\"] = bruno_df[\"discover_date\"].astype(str).str.extract(r\"(\\d{4}/\\d{2}/\\d{2})\")[0]\n",
    "bruno_df[\"clean_date\"] = pd.to_datetime(bruno_df[\"clean_date\"], format=\"%Y/%m/%d\", errors=\"coerce\")\n",
    "n_years = bruno_df[\"clean_date\"].dt.year.nunique()\n",
    "\n",
    "match_rate_per_year = len(matches_df) / n_years\n",
    "\n",
    "print(f\"📆 Estimated match rate: {match_rate_per_year:.3f} per year\")\n"
   ]
  },
  {
   "cell_type": "markdown",
   "id": "3693fafd-4904-4431-a211-0bb9a61ff7fa",
   "metadata": {},
   "source": [
    "Using a fluence-driven filter model (threshold: \n",
    "10\n",
    "−\n",
    "5\n",
    " \n",
    "J/m\n",
    "2\n",
    "10 \n",
    "−5\n",
    "  J/m \n",
    "2\n",
    " ), we identified 6 SN events over 33 years that coincided with IceCube neutrino events (±500s, ≤5°), resulting in a background-free multimessenger match rate of 0.182 events per year"
   ]
  },
  {
   "cell_type": "code",
   "execution_count": 42,
   "id": "78e72589-4415-45db-be63-0ca446138dc3",
   "metadata": {},
   "outputs": [
    {
     "data": {
      "text/html": [
       "<div>\n",
       "<style scoped>\n",
       "    .dataframe tbody tr th:only-of-type {\n",
       "        vertical-align: middle;\n",
       "    }\n",
       "\n",
       "    .dataframe tbody tr th {\n",
       "        vertical-align: top;\n",
       "    }\n",
       "\n",
       "    .dataframe thead th {\n",
       "        text-align: right;\n",
       "    }\n",
       "</style>\n",
       "<table border=\"1\" class=\"dataframe\">\n",
       "  <thead>\n",
       "    <tr style=\"text-align: right;\">\n",
       "      <th></th>\n",
       "      <th>sn_name</th>\n",
       "      <th>sn_date</th>\n",
       "      <th>nu_name</th>\n",
       "      <th>delta_t_sec</th>\n",
       "      <th>angular_sep_deg</th>\n",
       "    </tr>\n",
       "  </thead>\n",
       "  <tbody>\n",
       "    <tr>\n",
       "      <th>0</th>\n",
       "      <td>ASASSN-16ab</td>\n",
       "      <td>2016/01/03.62</td>\n",
       "      <td>IC120426A</td>\n",
       "      <td>1.163449e+08</td>\n",
       "      <td>4.938944</td>\n",
       "    </tr>\n",
       "    <tr>\n",
       "      <th>1</th>\n",
       "      <td>ASASSN-16ab</td>\n",
       "      <td>2016/01/03.62</td>\n",
       "      <td>IC120916A</td>\n",
       "      <td>1.039992e+08</td>\n",
       "      <td>4.086396</td>\n",
       "    </tr>\n",
       "    <tr>\n",
       "      <th>2</th>\n",
       "      <td>ASASSN-16ab</td>\n",
       "      <td>2016/01/03.62</td>\n",
       "      <td>IC141221A</td>\n",
       "      <td>3.262375e+07</td>\n",
       "      <td>3.671849</td>\n",
       "    </tr>\n",
       "    <tr>\n",
       "      <th>3</th>\n",
       "      <td>ASASSN-16at</td>\n",
       "      <td>2016/01/20.59</td>\n",
       "      <td>IC140101A</td>\n",
       "      <td>6.467871e+07</td>\n",
       "      <td>3.193533</td>\n",
       "    </tr>\n",
       "    <tr>\n",
       "      <th>4</th>\n",
       "      <td>ASASSN-16at</td>\n",
       "      <td>2016/01/20.59</td>\n",
       "      <td>IC150926A</td>\n",
       "      <td>9.944537e+06</td>\n",
       "      <td>4.717472</td>\n",
       "    </tr>\n",
       "    <tr>\n",
       "      <th>5</th>\n",
       "      <td>ASASSN-16at</td>\n",
       "      <td>2016/01/20.59</td>\n",
       "      <td>IC201115A</td>\n",
       "      <td>1.521580e+08</td>\n",
       "      <td>1.828215</td>\n",
       "    </tr>\n",
       "  </tbody>\n",
       "</table>\n",
       "</div>"
      ],
      "text/plain": [
       "       sn_name        sn_date    nu_name   delta_t_sec  angular_sep_deg\n",
       "0  ASASSN-16ab  2016/01/03.62  IC120426A  1.163449e+08         4.938944\n",
       "1  ASASSN-16ab  2016/01/03.62  IC120916A  1.039992e+08         4.086396\n",
       "2  ASASSN-16ab  2016/01/03.62  IC141221A  3.262375e+07         3.671849\n",
       "3  ASASSN-16at  2016/01/20.59  IC140101A  6.467871e+07         3.193533\n",
       "4  ASASSN-16at  2016/01/20.59  IC150926A  9.944537e+06         4.717472\n",
       "5  ASASSN-16at  2016/01/20.59  IC201115A  1.521580e+08         1.828215"
      ]
     },
     "execution_count": 42,
     "metadata": {},
     "output_type": "execute_result"
    }
   ],
   "source": [
    "matches_df[[\"sn_name\", \"sn_date\", \"nu_name\", \"delta_t_sec\", \"angular_sep_deg\"]]\n"
   ]
  },
  {
   "cell_type": "code",
   "execution_count": 45,
   "id": "8b180497-285e-48e2-9d5c-fc4a92233a73",
   "metadata": {},
   "outputs": [],
   "source": [
    "matches_df.to_csv(\"results/bruno_multimessenger_event_candidates.csv\", index=False)\n"
   ]
  },
  {
   "cell_type": "code",
   "execution_count": 49,
   "id": "9bb54655-7be0-411e-ad7f-e177d45a649d",
   "metadata": {},
   "outputs": [],
   "source": [
    "# Drop all duplicate columns and keep the first\n",
    "matches_df = matches_df.loc[:, ~matches_df.columns.duplicated()]\n",
    "\n"
   ]
  },
  {
   "cell_type": "code",
   "execution_count": 50,
   "id": "bf55206a-7889-4d89-99a3-a30415a84059",
   "metadata": {},
   "outputs": [
    {
     "name": "stdout",
     "output_type": "stream",
     "text": [
      "Index(['eventmjd_x', 'eventmjd_y', 'eventmjd', 'eventmjd_sn'], dtype='object')\n"
     ]
    }
   ],
   "source": [
    "print(matches_df.columns[matches_df.columns.str.contains(\"eventmjd\")])\n"
   ]
  },
  {
   "cell_type": "code",
   "execution_count": 52,
   "id": "4c35ac94-2b0f-435e-bafe-7d59aa4facbd",
   "metadata": {},
   "outputs": [],
   "source": [
    "# 🔐 Prevent SettingWithCopyWarning\n",
    "matches_df = matches_df.copy()\n",
    "\n",
    "# Ensure MJD column is numeric\n",
    "matches_df[\"eventmjd_sn\"] = pd.to_numeric(matches_df[\"eventmjd_sn\"], errors=\"coerce\")\n",
    "\n",
    "# Neutrino lookup\n",
    "nu_lookup = dict(zip(neutrino_df[\"name\"], neutrino_df[\"eventmjd\"]))\n",
    "\n",
    "# Safe row-wise delta_t calculation\n",
    "def safe_delta_t(row):\n",
    "    mjd_sn = row.get(\"eventmjd_sn\")\n",
    "    mjd_nu = nu_lookup.get(row[\"nu_name\"], np.nan)\n",
    "    if pd.notnull(mjd_sn) and pd.notnull(mjd_nu):\n",
    "        return abs(mjd_sn - mjd_nu) * 86400\n",
    "    else:\n",
    "        return np.nan\n",
    "\n",
    "matches_df[\"delta_t_sec\"] = matches_df.apply(safe_delta_t, axis=1)\n"
   ]
  },
  {
   "cell_type": "code",
   "execution_count": 53,
   "id": "620cae36-1a3a-4c7c-8949-977be3bceb0a",
   "metadata": {},
   "outputs": [
    {
     "name": "stdout",
     "output_type": "stream",
     "text": [
      "count    6.000000e+00\n",
      "mean     7.995820e+07\n",
      "std      5.383439e+07\n",
      "min      9.944537e+06\n",
      "25%      4.063749e+07\n",
      "50%      8.433896e+07\n",
      "75%      1.132585e+08\n",
      "max      1.521580e+08\n",
      "Name: delta_t_sec, dtype: float64\n"
     ]
    }
   ],
   "source": [
    "print(matches_df[\"delta_t_sec\"].describe())\n"
   ]
  },
  {
   "cell_type": "code",
   "execution_count": 54,
   "id": "6bb91022-6df3-42e2-ba66-214f3ee0122a",
   "metadata": {},
   "outputs": [
    {
     "data": {
      "image/png": "[encoded data removed]",
      "text/plain": [
       "<Figure size 600x400 with 1 Axes>"
      ]
     },
     "metadata": {},
     "output_type": "display_data"
    }
   ],
   "source": [
    "import matplotlib.pyplot as plt\n",
    "\n",
    "plt.figure(figsize=(6,4))\n",
    "plt.scatter(matches_df[\"delta_t_sec\"]/86400, matches_df[\"angular_sep_deg\"], alpha=0.7)\n",
    "plt.xlabel(\"Time Difference (days)\")\n",
    "plt.ylabel(\"Angular Separation (°)\")\n",
    "plt.title(\"SN–Neutrino Coincidence Landscape\")\n",
    "plt.grid(True)\n",
    "plt.show()\n"
   ]
  },
  {
   "cell_type": "code",
   "execution_count": null,
   "id": "06f8ad9f-eb5f-4355-ace3-c3ea834921ab",
   "metadata": {},
   "outputs": [],
   "source": []
  }
 ],
 "metadata": {
  "kernelspec": {
   "display_name": "Python 3.12 (Local)",
   "language": "python",
   "name": "python312"
  },
  "language_info": {
   "codemirror_mode": {
    "name": "ipython",
    "version": 3
   },
   "file_extension": ".py",
   "mimetype": "text/x-python",
   "name": "python",
   "nbconvert_exporter": "python",
   "pygments_lexer": "ipython3",
   "version": "3.12.9"
  }
 },
 "nbformat": 4,
 "nbformat_minor": 5
}
