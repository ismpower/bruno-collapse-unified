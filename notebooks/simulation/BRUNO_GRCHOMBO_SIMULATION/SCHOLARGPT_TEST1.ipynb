{
 "cells": [
  {
   "cell_type": "code",
   "execution_count": null,
   "id": "8d893d3c",
   "metadata": {},
   "outputs": [],
   "source": [
    "import matplotlib.pyplot as plt\n",
    "import pandas as pd\n",
    "import numpy as np"
   ]
  },
  {
   "cell_type": "markdown",
   "id": "f8d5b2d2",
   "metadata": {},
   "source": [
    "# Constants\n",
    "kappa = 1366  # Bruno Constant in K^-1"
   ]
  },
  {
   "cell_type": "markdown",
   "id": "aa3f5936",
   "metadata": {},
   "source": [
    "# Test Cases: Name, Radius (m), Temperature (K)\n",
    "systems = [\n",
    "    (\"GW150914 Black Hole\", 1.83e5, 1.2e-8),\n",
    "    (\"Neutron Star\", 1.2e4, 1e6),\n",
    "    (\"White Dwarf\", 7e6, 1e5),\n",
    "    (\"CMB Epoch\", 4.3e26, 3000),\n",
    "    (\"Primordial BH\", 1e-15, 1e23)\n",
    "]"
   ]
  },
  {
   "cell_type": "markdown",
   "id": "3a9f0f2a",
   "metadata": {},
   "source": [
    "# Compute beta_B and 3/R\n",
    "data = []\n",
    "for name, R, T in systems:\n",
    "    beta_B = kappa * T\n",
    "    boundary = 3 / R\n",
    "    status = \"Surface Collapse\" if beta_B >= boundary else \"Volumetric\"\n",
    "    data.append((name, R, T, beta_B, boundary, status))"
   ]
  },
  {
   "cell_type": "markdown",
   "id": "0e536942",
   "metadata": {},
   "source": [
    "# Convert to DataFrame\n",
    "df = pd.DataFrame(data, columns=[\"System\", \"Radius (m)\", \"Temperature (K)\", \"β_B = κ·T\", \"3/R\", \"Collapse Regime\"])"
   ]
  },
  {
   "cell_type": "markdown",
   "id": "fb45d5d2",
   "metadata": {},
   "source": [
    "# Prepare plot\n",
    "T_vals = np.logspace(-10, 25, 500)\n",
    "R_boundary = 3 / (kappa * T_vals)"
   ]
  },
  {
   "cell_type": "code",
   "execution_count": null,
   "id": "c167c822",
   "metadata": {},
   "outputs": [],
   "source": [
    "plt.figure(figsize=(10, 6))\n",
    "plt.loglog(T_vals, R_boundary, label=\"Bruno Collapse Boundary\", linewidth=2)"
   ]
  },
  {
   "cell_type": "code",
   "execution_count": null,
   "id": "703921de",
   "metadata": {},
   "outputs": [],
   "source": [
    "for _, row in df.iterrows():\n",
    "    plt.scatter(row[\"Temperature (K)\"], row[\"Radius (m)\"], label=row[\"System\"])\n",
    "    plt.text(row[\"Temperature (K)\"], row[\"Radius (m)\"]*1.5, row[\"System\"], fontsize=9)"
   ]
  },
  {
   "cell_type": "code",
   "execution_count": null,
   "id": "3d2deb48",
   "metadata": {},
   "outputs": [],
   "source": [
    "plt.xlabel(\"Temperature (K)\")\n",
    "plt.ylabel(\"Radius (m)\")\n",
    "plt.title(\"Bruno Collapse Boundary in Radius–Temperature Space\")\n",
    "plt.legend()\n",
    "plt.grid(True, which=\"both\", ls=\"--\")\n",
    "plt.tight_layout()\n",
    "plt.show()"
   ]
  },
  {
   "cell_type": "code",
   "execution_count": null,
   "id": "72b7ad52",
   "metadata": {},
   "outputs": [],
   "source": [
    "import ace_tools as tools; tools.display_dataframe_to_user(name=\"Bruno Collapse Test Results\", dataframe=df)"
   ]
  },
  {
   "cell_type": "markdown",
   "id": "c67aabee",
   "metadata": {},
   "source": [
    "####\n",
    "# Estimate the core temperature of a massive star before it collapsed into the GW150914 black hole\n",
    "# Typical temperature range at core-collapse (supernova) phase is ~1e9 to 1e10 K\n",
    "# We'll test two scenarios: T = 1e9 K and T = 1e10 K"
   ]
  },
  {
   "cell_type": "markdown",
   "id": "e501868c",
   "metadata": {},
   "source": [
    "# Recompute β_B = κ · T and compare to 3/R for GW150914\n",
    "R_gw150914 = 1.83e5  # m\n",
    "kappa = 1366  # K^-1"
   ]
  },
  {
   "cell_type": "code",
   "execution_count": null,
   "id": "3d8e8e15",
   "metadata": {},
   "outputs": [],
   "source": [
    "temperatures = [1e9, 1e10]\n",
    "results = []"
   ]
  },
  {
   "cell_type": "code",
   "execution_count": null,
   "id": "cd81705c",
   "metadata": {},
   "outputs": [],
   "source": [
    "for T in temperatures:\n",
    "    beta_B = kappa * T\n",
    "    threshold = 3 / R_gw150914\n",
    "    status = \"Surface Collapse\" if beta_B >= threshold else \"Volumetric\"\n",
    "    results.append((T, beta_B, threshold, status))"
   ]
  },
  {
   "cell_type": "markdown",
   "id": "9da2e7de",
   "metadata": {},
   "source": [
    "# Create a summary table\n",
    "pd.DataFrame(results, columns=[\"Core Temperature (K)\", \"β_B = κ·T\", \"3/R\", \"Collapse Regime\"])"
   ]
  },
  {
   "cell_type": "markdown",
   "id": "12b15604",
   "metadata": {},
   "source": [
    "####"
   ]
  },
  {
   "cell_type": "markdown",
   "id": "84b402eb",
   "metadata": {},
   "source": [
    "# Define κ again for clarity\n",
    "kappa = 1366  # Bruno Constant in K^-1"
   ]
  },
  {
   "cell_type": "markdown",
   "id": "99c96aff",
   "metadata": {},
   "source": [
    "# Collapse transition stages: Name, Temperature (K), Radius (m)\n",
    "collapse_stages = [\n",
    "    (\"White Dwarf Core\", 1e7, 7e6),\n",
    "    (\"Neutron Star Core\", 1e9, 1e4),\n",
    "    (\"Massive Star Pre-BH Core\", 1e10, 1e5)\n",
    "]"
   ]
  },
  {
   "cell_type": "markdown",
   "id": "5e5279f9",
   "metadata": {},
   "source": [
    "# Calculate Bruno Constant values and compare to threshold\n",
    "transition_results = []\n",
    "for name, T, R in collapse_stages:\n",
    "    beta_B = kappa * T\n",
    "    threshold = 3 / R\n",
    "    status = \"Surface Collapse\" if beta_B >= threshold else \"Volumetric\"\n",
    "    transition_results.append((name, T, R, beta_B, threshold, status))"
   ]
  },
  {
   "cell_type": "markdown",
   "id": "3a38bc9f",
   "metadata": {},
   "source": [
    "# Present results\n",
    "pd.DataFrame(transition_results, columns=[\"Stage\", \"Temperature (K)\", \"Radius (m)\", \"β_B = κ·T\", \"3/R\", \"Collapse Regime\"])"
   ]
  },
  {
   "cell_type": "markdown",
   "id": "60be5e19",
   "metadata": {},
   "source": [
    "###"
   ]
  },
  {
   "cell_type": "markdown",
   "id": "01fd9da7",
   "metadata": {},
   "source": [
    "# Simulate time-evolution tracks in Radius–Temperature space for three systems:\n",
    "# White Dwarf → Neutron Star → Black Hole transition"
   ]
  },
  {
   "cell_type": "markdown",
   "id": "2cbd052e",
   "metadata": {},
   "source": [
    "# Define temperature and radius evolution (simplified and idealized)\n",
    "time_steps = np.linspace(0, 1, 100)  # normalized time (0 = start, 1 = final collapse)"
   ]
  },
  {
   "cell_type": "markdown",
   "id": "d458d3c7",
   "metadata": {},
   "source": [
    "# Define initial and final (T, R) for each object type\n",
    "tracks = {\n",
    "    \"WD → NS\": {\n",
    "        \"T_start\": 1e7, \"T_end\": 1e9,\n",
    "        \"R_start\": 7e6, \"R_end\": 1.2e4\n",
    "    },\n",
    "    \"NS → BH\": {\n",
    "        \"T_start\": 1e9, \"T_end\": 1e10,\n",
    "        \"R_start\": 1.2e4, \"R_end\": 1.83e5\n",
    "    },\n",
    "    \"Primordial BH (cooling)\": {\n",
    "        \"T_start\": 1e23, \"T_end\": 1e16,\n",
    "        \"R_start\": 1e-15, \"R_end\": 1e-12\n",
    "    }\n",
    "}"
   ]
  },
  {
   "cell_type": "markdown",
   "id": "3b59d5a1",
   "metadata": {},
   "source": [
    "# Generate the Bruno Collapse boundary curve\n",
    "T_vals = np.logspace(-10, 25, 500)\n",
    "R_boundary = 3 / (kappa * T_vals)"
   ]
  },
  {
   "cell_type": "markdown",
   "id": "59ece584",
   "metadata": {},
   "source": [
    "# Plot setup\n",
    "plt.figure(figsize=(10, 6))\n",
    "plt.loglog(T_vals, R_boundary, label=\"Bruno Collapse Boundary\", linewidth=2, linestyle='--')"
   ]
  },
  {
   "cell_type": "markdown",
   "id": "7e5ba1d3",
   "metadata": {},
   "source": [
    "# Plot each track\n",
    "for label, params in tracks.items():\n",
    "    T_track = np.logspace(np.log10(params[\"T_start\"]), np.log10(params[\"T_end\"]), 100)\n",
    "    R_track = np.logspace(np.log10(params[\"R_start\"]), np.log10(params[\"R_end\"]), 100)\n",
    "    plt.plot(T_track, R_track, label=label)"
   ]
  },
  {
   "cell_type": "code",
   "execution_count": null,
   "id": "1b9896c5",
   "metadata": {},
   "outputs": [],
   "source": [
    "plt.xlabel(\"Temperature (K)\")\n",
    "plt.ylabel(\"Radius (m)\")\n",
    "plt.title(\"Entropy Collapse Tracks Across Bruno Boundary\")\n",
    "plt.legend()\n",
    "plt.grid(True, which=\"both\", ls=\"--\")\n",
    "plt.tight_layout()\n",
    "plt.show()"
   ]
  },
  {
   "cell_type": "markdown",
   "id": "24f50948",
   "metadata": {},
   "source": [
    "####"
   ]
  },
  {
   "cell_type": "markdown",
   "id": "533f7e6f",
   "metadata": {},
   "source": [
    "# Let's begin with SN1987A — the best-documented core-collapse supernova\n",
    "# We'll estimate β_B for SN1987A based on core parameters prior to collapse"
   ]
  },
  {
   "cell_type": "markdown",
   "id": "f3b786ad",
   "metadata": {},
   "source": [
    "# Known estimated values for SN1987A (core-collapse phase)\n",
    "T_core_sn1987a = 4e9   # Temperature in Kelvin\n",
    "R_core_sn1987a = 1.5e4  # Core radius in meters (estimated)"
   ]
  },
  {
   "cell_type": "markdown",
   "id": "8d774e2e",
   "metadata": {},
   "source": [
    "# Bruno Constant\n",
    "kappa = 1366  # K^-1"
   ]
  },
  {
   "cell_type": "markdown",
   "id": "f79e9072",
   "metadata": {},
   "source": [
    "# Compute beta_B and threshold\n",
    "beta_B_sn1987a = kappa * T_core_sn1987a\n",
    "threshold_sn1987a = 3 / R_core_sn1987a\n",
    "status = \"Surface Collapse\" if beta_B_sn1987a >= threshold_sn1987a else \"Volumetric\""
   ]
  },
  {
   "cell_type": "markdown",
   "id": "bddfff96",
   "metadata": {},
   "source": [
    "# Display result\n",
    "{\n",
    "    \"SN1987A Core Temperature (K)\": T_core_sn1987a,\n",
    "    \"SN1987A Core Radius (m)\": R_core_sn1987a,\n",
    "    \"β_B = κ·T\": beta_B_sn1987a,\n",
    "    \"3/R\": threshold_sn1987a,\n",
    "    \"Collapse Regime\": status\n",
    "}"
   ]
  },
  {
   "cell_type": "markdown",
   "id": "bb66d433",
   "metadata": {},
   "source": [
    "###"
   ]
  },
  {
   "cell_type": "markdown",
   "id": "b659036a",
   "metadata": {},
   "source": [
    "# Neutrino physics parameters and escape timing estimate for SN1987A"
   ]
  },
  {
   "cell_type": "markdown",
   "id": "d02aa8a9",
   "metadata": {},
   "source": [
    "# Observed neutrino burst time before visible light\n",
    "neutrino_early_time_sec = 10800  # 3 hours in seconds"
   ]
  },
  {
   "cell_type": "markdown",
   "id": "5271d313",
   "metadata": {},
   "source": [
    "# Light travel time across stellar radius (~20 solar masses)\n",
    "# Approximate total stellar radius (before collapse): ~40 million km = 4e7 km = 4e10 m\n",
    "R_star = 4e10  # in meters\n",
    "c = 3e8  # speed of light in m/s"
   ]
  },
  {
   "cell_type": "markdown",
   "id": "18d310e7",
   "metadata": {},
   "source": [
    "# Time it would take for photons to escape if they could move freely (they can't, but it's a reference)\n",
    "t_light_escape = R_star / c  # seconds"
   ]
  },
  {
   "cell_type": "markdown",
   "id": "91fff590",
   "metadata": {},
   "source": [
    "# Time neutrinos take to escape from a collapsing core (order of seconds to tens of seconds)\n",
    "# Let's assume they are emitted from near the collapsing core (~10 km), escape immediately after collapse"
   ]
  },
  {
   "cell_type": "markdown",
   "id": "dd0c3357",
   "metadata": {},
   "source": [
    "# Compare that to the time light takes to escape from the surface after shock breakout\n",
    "# This gives a window between neutrino emission and visible light"
   ]
  },
  {
   "cell_type": "code",
   "execution_count": null,
   "id": "06ae8b98",
   "metadata": {},
   "outputs": [],
   "source": [
    "{\n",
    "    \"SN1987A Neutrino Burst Lead Time\": f\"{neutrino_early_time_sec / 3600:.2f} hours\",\n",
    "    \"Stellar Radius\": f\"{R_star:.2e} m\",\n",
    "    \"Light Escape Time (free path estimate)\": f\"{t_light_escape:.2f} seconds\"\n",
    "}"
   ]
  },
  {
   "cell_type": "markdown",
   "id": "eb623306",
   "metadata": {},
   "source": [
    "####"
   ]
  },
  {
   "cell_type": "markdown",
   "id": "c96d3edd",
   "metadata": {},
   "source": [
    "# Let's analyze TOV limit vs Bruno Collapse threshold\n",
    "# The TOV limit gives the maximum mass a neutron star can support against gravitational collapse"
   ]
  },
  {
   "cell_type": "markdown",
   "id": "6c2ecc52",
   "metadata": {},
   "source": [
    "# Typical TOV limit range (observational/theoretical range)\n",
    "TOV_min = 2.1  # in solar masses\n",
    "TOV_max = 2.3  # in solar masses\n",
    "solar_mass = 1.98847e30  # kg"
   ]
  },
  {
   "cell_type": "markdown",
   "id": "85fe5965",
   "metadata": {},
   "source": [
    "# Convert mass to Schwarzschild radius: R_s = 2GM/c^2\n",
    "G = 6.67430e-11  # gravitational constant\n",
    "c = 3e8  # speed of light"
   ]
  },
  {
   "cell_type": "markdown",
   "id": "416666e3",
   "metadata": {},
   "source": [
    "# Choose a mid-range TOV mass\n",
    "M_TOV = 2.2 * solar_mass\n",
    "R_s_TOV = 2 * G * M_TOV / c**2"
   ]
  },
  {
   "cell_type": "markdown",
   "id": "9c1290dd",
   "metadata": {},
   "source": [
    "# Estimate core collapse temperature for NS exceeding TOV limit (~1e10 K)\n",
    "T_core_TOV = 1e10  # K"
   ]
  },
  {
   "cell_type": "markdown",
   "id": "11b4a342",
   "metadata": {},
   "source": [
    "# Compute Bruno constant β_B = κ·T and compare to 3/R_s\n",
    "kappa = 1366\n",
    "beta_B_TOV = kappa * T_core_TOV\n",
    "threshold_TOV = 3 / R_s_TOV\n",
    "collapse_status = \"Surface Collapse\" if beta_B_TOV >= threshold_TOV else \"Volumetric\""
   ]
  },
  {
   "cell_type": "code",
   "execution_count": null,
   "id": "3eea657d",
   "metadata": {},
   "outputs": [],
   "source": [
    "{\n",
    "    \"TOV Limit Mass (kg)\": M_TOV,\n",
    "    \"Schwarzschild Radius (m)\": R_s_TOV,\n",
    "    \"β_B = κ·T\": beta_B_TOV,\n",
    "    \"3 / R_s\": threshold_TOV,\n",
    "    \"Collapse Regime\": collapse_status\n",
    "}"
   ]
  },
  {
   "cell_type": "markdown",
   "id": "67fb76ef",
   "metadata": {},
   "source": [
    "#"
   ]
  },
  {
   "cell_type": "code",
   "execution_count": null,
   "id": "cc3cd3ae",
   "metadata": {},
   "outputs": [],
   "source": [
    "import numpy as np\n",
    "import matplotlib.pyplot as plt"
   ]
  },
  {
   "cell_type": "markdown",
   "id": "0709fa2f",
   "metadata": {},
   "source": [
    "# Constants\n",
    "a_rad = 7.5657e-16  # Radiation constant (J·m⁻³·K⁻⁴)\n",
    "kappa = 1313        # Bruno Constant (1/K)\n",
    "V = 1.0             # Arbitrary volume (m³)"
   ]
  },
  {
   "cell_type": "markdown",
   "id": "b7e77f51",
   "metadata": {},
   "source": [
    "# Temperature range\n",
    "T_vals = np.logspace(1, 12, 300)  # from 10 K to 1e12 K"
   ]
  },
  {
   "cell_type": "markdown",
   "id": "3bbdd742",
   "metadata": {},
   "source": [
    "# Entropy calculations\n",
    "S_3D = (4/3) * a_rad * T_vals**3 * V\n",
    "S_2D = (4/3) * a_rad * T_vals**2 * V / kappa\n",
    "ratio_S2D_to_S3D = S_2D / S_3D\n",
    "beta_B_vals = kappa * T_vals"
   ]
  },
  {
   "cell_type": "markdown",
   "id": "edf12fdc",
   "metadata": {},
   "source": [
    "# Plot entropy values\n",
    "plt.figure(figsize=(10, 6))\n",
    "plt.loglog(T_vals, S_3D, label=\"S_3D (Volumetric Entropy)\", color='blue')\n",
    "plt.loglog(T_vals, S_2D, label=\"S_2D (Projected Entropy)\", color='orange', linestyle='--')\n",
    "plt.axvline(1/kappa, color='red', linestyle=':', label=\"Collapse Threshold (β_B = 1)\")\n",
    "plt.xlabel(\"Temperature (K)\")\n",
    "plt.ylabel(\"Entropy (J/K)\")\n",
    "plt.title(\"3D vs Projected 2D Entropy Across Temperature\")\n",
    "plt.grid(True, which=\"both\", linestyle=\"--\")\n",
    "plt.legend()\n",
    "plt.tight_layout()\n",
    "plt.show()"
   ]
  },
  {
   "cell_type": "markdown",
   "id": "48821cfe",
   "metadata": {},
   "source": [
    "# Plot entropy ratio\n",
    "plt.figure(figsize=(10, 6))\n",
    "plt.semilogx(T_vals, ratio_S2D_to_S3D, label=\"S_2D / S_3D\", color='purple')\n",
    "plt.axhline(1, color='gray', linestyle='--', label=\"Equality Line (β_B = 1)\")\n",
    "plt.axvline(1/kappa, color='red', linestyle=':', label=\"Collapse Threshold (1/κ)\")\n",
    "plt.xlabel(\"Temperature (K)\")\n",
    "plt.ylabel(\"Entropy Ratio (S_2D / S_3D)\")\n",
    "plt.title(\"Entropy Ratio vs Temperature\")\n",
    "plt.grid(True, which=\"both\", linestyle=\"--\")\n",
    "plt.legend()\n",
    "plt.tight_layout()\n",
    "plt.show()"
   ]
  },
  {
   "cell_type": "markdown",
   "id": "7a756694",
   "metadata": {},
   "source": [
    "#"
   ]
  },
  {
   "cell_type": "markdown",
   "id": "f674b469",
   "metadata": {},
   "source": [
    "# First, calculate κ from first principles using Planck units\n",
    "import math"
   ]
  },
  {
   "cell_type": "markdown",
   "id": "ea577095",
   "metadata": {},
   "source": [
    "# Physical constants (SI)\n",
    "hbar = 1.054571817e-34     # Reduced Planck constant (J·s)\n",
    "G = 6.67430e-11            # Gravitational constant (m³/kg/s²)\n",
    "c = 299792458              # Speed of light (m/s)\n",
    "k_B = 1.380649e-23         # Boltzmann constant (J/K)"
   ]
  },
  {
   "cell_type": "markdown",
   "id": "6e69548c",
   "metadata": {},
   "source": [
    "# Planck length and temperature\n",
    "l_P = math.sqrt(hbar * G / c**3)              # meters\n",
    "T_P = math.sqrt(hbar * c**5 / G) / k_B        # Kelvin"
   ]
  },
  {
   "cell_type": "markdown",
   "id": "d902fe5e",
   "metadata": {},
   "source": [
    "# κ from Planck units\n",
    "kappa_planck = 3 / (l_P * T_P)"
   ]
  },
  {
   "cell_type": "markdown",
   "id": "25e60e1d",
   "metadata": {},
   "source": [
    "# Now calculate κ empirically from GW150914 black hole data:\n",
    "# Hawking temperature for GW150914\n",
    "T_H_GW150914 = 1.2e-8     # Kelvin (estimated)\n",
    "R_GW150914 = 1.83e5       # meters (Schwarzschild radius)"
   ]
  },
  {
   "cell_type": "markdown",
   "id": "df600059",
   "metadata": {},
   "source": [
    "# From Bruno collapse condition: β_B = A/V = 3/R = κ * T → κ = 3 / (R * T)\n",
    "kappa_gw150914 = 3 / (R_GW150914 * T_H_GW150914)"
   ]
  },
  {
   "cell_type": "code",
   "execution_count": null,
   "id": "195b2d72",
   "metadata": {},
   "outputs": [],
   "source": [
    "{\n",
    "    \"κ from Planck Units\": kappa_planck,\n",
    "    \"κ from GW150914 Backsolve\": kappa_gw150914,\n",
    "    \"Percent Difference (%)\": abs(kappa_planck - kappa_gw150914) / ((kappa_planck + kappa_gw150914)/2) * 100\n",
    "}"
   ]
  },
  {
   "cell_type": "markdown",
   "id": "31b800ba",
   "metadata": {},
   "source": [
    "###"
   ]
  },
  {
   "cell_type": "markdown",
   "id": "37afaf9b",
   "metadata": {},
   "source": [
    "# Temperature range\n",
    "T_vals = np.logspace(1, 12, 300)  # 10 K to 1e12 K"
   ]
  },
  {
   "cell_type": "markdown",
   "id": "97b2363c",
   "metadata": {},
   "source": [
    "# Constants\n",
    "a_rad = 7.5657e-16  # Radiation constant (J·m⁻³·K⁻⁴)\n",
    "kappa = 1313        # Bruno constant\n",
    "V = 1.0             # Volume in m³"
   ]
  },
  {
   "cell_type": "markdown",
   "id": "eec2d7ed",
   "metadata": {},
   "source": [
    "# Internal energy (same for both models)\n",
    "U = a_rad * T_vals**4 * V"
   ]
  },
  {
   "cell_type": "markdown",
   "id": "3b8e2eca",
   "metadata": {},
   "source": [
    "# Entropy models\n",
    "S_3D = (4/3) * a_rad * T_vals**3 * V\n",
    "S_2D = (4/3) * a_rad * T_vals**2 * V / kappa"
   ]
  },
  {
   "cell_type": "markdown",
   "id": "70c2a39d",
   "metadata": {},
   "source": [
    "# Free energy computations\n",
    "F_3D = U - T_vals * S_3D\n",
    "F_2D = U - T_vals * S_2D"
   ]
  },
  {
   "cell_type": "markdown",
   "id": "5615b28e",
   "metadata": {},
   "source": [
    "# Plotting\n",
    "import matplotlib.pyplot as plt"
   ]
  },
  {
   "cell_type": "code",
   "execution_count": null,
   "id": "741e6e87",
   "metadata": {},
   "outputs": [],
   "source": [
    "plt.figure(figsize=(10, 6))\n",
    "plt.loglog(T_vals, F_3D, label=\"F_3D (Volumetric)\", color='blue')\n",
    "plt.loglog(T_vals, F_2D, label=\"F_2D (Projected)\", color='orange', linestyle='--')\n",
    "plt.axvline(1/kappa, color='red', linestyle=':', label=\"Collapse Threshold (β_B = 1)\")\n",
    "plt.xlabel(\"Temperature (K)\")\n",
    "plt.ylabel(\"Free Energy (J)\")\n",
    "plt.title(\"Free Energy: 3D vs Projected (2D) Entropy\")\n",
    "plt.grid(True, which=\"both\", linestyle='--')\n",
    "plt.legend()\n",
    "plt.tight_layout()\n",
    "plt.show()"
   ]
  },
  {
   "cell_type": "markdown",
   "id": "a8323a57",
   "metadata": {},
   "source": [
    "# Plot the difference\n",
    "plt.figure(figsize=(10, 6))\n",
    "plt.semilogx(T_vals, F_2D - F_3D, label=\"ΔF = F_2D - F_3D\", color='purple')\n",
    "plt.axhline(0, color='gray', linestyle='--')\n",
    "plt.axvline(1/kappa, color='red', linestyle=':', label=\"Collapse Threshold (β_B = 1)\")\n",
    "plt.xlabel(\"Temperature (K)\")\n",
    "plt.ylabel(\"Free Energy Difference (J)\")\n",
    "plt.title(\"Thermodynamic Preference: 2D vs 3D Entropy\")\n",
    "plt.grid(True, which=\"both\", linestyle='--')\n",
    "plt.legend()\n",
    "plt.tight_layout()\n",
    "plt.show()"
   ]
  },
  {
   "cell_type": "markdown",
   "id": "8f561dc7",
   "metadata": {},
   "source": [
    "###\n",
    "#dS/dt\tCollapse timing\tDynamic signal"
   ]
  },
  {
   "cell_type": "markdown",
   "id": "c190dda4",
   "metadata": {},
   "source": [
    "# Reload and convert data to numeric types\n",
    "df = pd.read_csv(csv_path, header=None, names=[\"Time\", \"Entropy\", \"Volume\", \"Area\"])"
   ]
  },
  {
   "cell_type": "markdown",
   "id": "aeb6c794",
   "metadata": {},
   "source": [
    "# Convert all columns to numeric (in case some entries are strings with whitespace or bad formatting)\n",
    "df = df.apply(pd.to_numeric, errors='coerce')"
   ]
  },
  {
   "cell_type": "markdown",
   "id": "8bc42c7c",
   "metadata": {},
   "source": [
    "# Drop rows with NaNs caused by bad data\n",
    "df.dropna(inplace=True)"
   ]
  },
  {
   "cell_type": "markdown",
   "id": "d38c1917",
   "metadata": {},
   "source": [
    "# Calculate dS/dt (entropy rate of change)\n",
    "df[\"dS_dt\"] = df[\"Entropy\"].diff() / df[\"Time\"].diff()"
   ]
  },
  {
   "cell_type": "markdown",
   "id": "4367a0c7",
   "metadata": {},
   "source": [
    "# Smooth derivative for visualization\n",
    "df[\"dS_dt_smooth\"] = df[\"dS_dt\"].rolling(window=3, center=True).mean()"
   ]
  },
  {
   "cell_type": "markdown",
   "id": "972df1c9",
   "metadata": {},
   "source": [
    "# Plot Entropy over time\n",
    "plt.figure(figsize=(10, 5))\n",
    "plt.plot(df[\"Time\"], df[\"Entropy\"], label=\"Entropy (S)\", color=\"black\")\n",
    "plt.xlabel(\"Time\")\n",
    "plt.ylabel(\"Entropy (J/K)\")\n",
    "plt.title(\"Entropy Over Time\")\n",
    "plt.grid(True)\n",
    "plt.legend()\n",
    "plt.tight_layout()\n",
    "plt.show()"
   ]
  },
  {
   "cell_type": "markdown",
   "id": "d1a4d185",
   "metadata": {},
   "source": [
    "# Plot dS/dt over time\n",
    "plt.figure(figsize=(10, 5))\n",
    "plt.plot(df[\"Time\"], df[\"dS_dt_smooth\"], label=\"dS/dt (Smoothed)\", color=\"blue\")\n",
    "plt.axhline(0, color=\"gray\", linestyle=\"--\")\n",
    "plt.xlabel(\"Time\")\n",
    "plt.ylabel(\"Entropy Rate of Change (dS/dt)\")\n",
    "plt.title(\"Rate of Entropy Change Over Time\")\n",
    "plt.grid(True)\n",
    "plt.legend()\n",
    "plt.tight_layout()\n",
    "plt.show()"
   ]
  },
  {
   "cell_type": "markdown",
   "id": "0779dbf1",
   "metadata": {},
   "source": [
    "###"
   ]
  },
  {
   "cell_type": "markdown",
   "id": "6832d825",
   "metadata": {},
   "source": [
    "# Calculate β_B = κ·T, where T is derived from entropy and volume (assuming blackbody radiation)\n",
    "# S = (4/3) a T^3 V  =>  T = (3S / 4aV)^(1/3)\n",
    "T_estimated = ((3 * df[\"Entropy\"]) / (4 * a_rad * df[\"Volume\"])) ** (1/3)"
   ]
  },
  {
   "cell_type": "markdown",
   "id": "a0ec29bb",
   "metadata": {},
   "source": [
    "# Compute β_B = κ · T\n",
    "df[\"beta_B\"] = kappa * T_estimated"
   ]
  },
  {
   "cell_type": "markdown",
   "id": "251cfccf",
   "metadata": {},
   "source": [
    "# Find time when β_B crosses 1\n",
    "collapse_crossing = df[df[\"beta_B\"] >= 1].iloc[0]  # First crossing point"
   ]
  },
  {
   "cell_type": "markdown",
   "id": "47af83f6",
   "metadata": {},
   "source": [
    "# Plot dS/dt again with β_B = 1 marker\n",
    "plt.figure(figsize=(10, 5))\n",
    "plt.plot(df[\"Time\"], df[\"dS_dt_smooth\"], label=\"dS/dt (Smoothed)\", color=\"blue\")\n",
    "plt.axhline(0, color=\"gray\", linestyle=\"--\")\n",
    "plt.axvline(collapse_crossing[\"Time\"], color=\"red\", linestyle=\"--\", label=\"β_B = 1 (Collapse Threshold)\")\n",
    "plt.xlabel(\"Time\")\n",
    "plt.ylabel(\"Entropy Rate of Change (dS/dt)\")\n",
    "plt.title(\"dS/dt with Bruno Collapse Threshold Marker\")\n",
    "plt.grid(True, which=\"both\", linestyle=\"--\")\n",
    "plt.legend()\n",
    "plt.tight_layout()\n",
    "plt.show()"
   ]
  },
  {
   "cell_type": "markdown",
   "id": "668fb580",
   "metadata": {},
   "source": [
    "# Output time where beta_B = 1\n",
    "collapse_crossing[\"Time\"]"
   ]
  },
  {
   "cell_type": "markdown",
   "id": "cf657d36",
   "metadata": {},
   "source": [
    "###\n",
    "#d²F/dT²\tCritical point\tPhase-transition signature\n",
    "#"
   ]
  },
  {
   "cell_type": "markdown",
   "id": "adeaec7d",
   "metadata": {},
   "source": [
    "# Reuse entropy and free energy functions from before\n",
    "# F = U - T*S"
   ]
  },
  {
   "cell_type": "markdown",
   "id": "8c935cfa",
   "metadata": {},
   "source": [
    "# Compute Free Energy for both 3D and projected 2D entropy\n",
    "U_vals = a_rad * T_vals**4 * V\n",
    "S_3D_vals = (4/3) * a_rad * T_vals**3 * V\n",
    "S_2D_vals = (4/3) * a_rad * T_vals**2 * V / kappa"
   ]
  },
  {
   "cell_type": "code",
   "execution_count": null,
   "id": "e18e3322",
   "metadata": {},
   "outputs": [],
   "source": [
    "F_3D_vals = U_vals - T_vals * S_3D_vals\n",
    "F_2D_vals = U_vals - T_vals * S_2D_vals"
   ]
  },
  {
   "cell_type": "markdown",
   "id": "ebbc4602",
   "metadata": {},
   "source": [
    "# Compute second derivative (numerical) of F_3D and F_2D w.r.t. T\n",
    "d2F_3D = np.gradient(np.gradient(F_3D_vals, T_vals), T_vals)\n",
    "d2F_2D = np.gradient(np.gradient(F_2D_vals, T_vals), T_vals)"
   ]
  },
  {
   "cell_type": "markdown",
   "id": "6fec453c",
   "metadata": {},
   "source": [
    "# Plot second derivatives to check for discontinuity at beta_B = 1\n",
    "plt.figure(figsize=(10, 6))\n",
    "plt.semilogx(T_vals, d2F_3D, label=\"d²F_3D/dT²\", color='blue')\n",
    "plt.semilogx(T_vals, d2F_2D, label=\"d²F_2D/dT²\", color='orange', linestyle='--')\n",
    "plt.axvline(1/kappa, color='red', linestyle=':', label=\"β_B = 1\")\n",
    "plt.xlabel(\"Temperature (K)\")\n",
    "plt.ylabel(\"Second Derivative of Free Energy\")\n",
    "plt.title(\"Free Energy Curvature: Phase Transition Signature at Collapse\")\n",
    "plt.grid(True, which=\"both\", linestyle=\"--\")\n",
    "plt.legend()\n",
    "plt.tight_layout()\n",
    "plt.show()"
   ]
  },
  {
   "cell_type": "markdown",
   "id": "b95951dc",
   "metadata": {},
   "source": [
    "###\n",
    "#S/A vs R\tCollapse scale\tEntropy flattening marker"
   ]
  },
  {
   "cell_type": "markdown",
   "id": "90054130",
   "metadata": {},
   "source": [
    "# Use the existing dataset (Entropy_Collapse_Export_1.5.csv) with Area and Entropy\n",
    "# We want to compute S/A vs Radius to observe entropy flattening scale"
   ]
  },
  {
   "cell_type": "markdown",
   "id": "093b1171",
   "metadata": {},
   "source": [
    "# Estimate radius from surface area: A = 4πR² → R = sqrt(A / 4π)\n",
    "df[\"Radius\"] = np.sqrt(df[\"Area\"] / (4 * np.pi))"
   ]
  },
  {
   "cell_type": "markdown",
   "id": "334e9f22",
   "metadata": {},
   "source": [
    "# Compute S/A (entropy per unit area)\n",
    "df[\"S_per_A\"] = df[\"Entropy\"] / df[\"Area\"]"
   ]
  },
  {
   "cell_type": "markdown",
   "id": "5f7e15bc",
   "metadata": {},
   "source": [
    "# Plot S/A vs Radius\n",
    "plt.figure(figsize=(10, 6))\n",
    "plt.plot(df[\"Radius\"], df[\"S_per_A\"], marker='o', linestyle='-', color='teal')\n",
    "plt.axvline(np.sqrt((1 / kappa) / (4 * np.pi)), color='red', linestyle='--', label=\"Critical Radius from β_B = 1\")\n",
    "plt.xlabel(\"Radius (m)\")\n",
    "plt.ylabel(\"Entropy per Unit Area (S/A)\")\n",
    "plt.title(\"Entropy Surface Density vs Radius\")\n",
    "plt.grid(True)\n",
    "plt.legend()\n",
    "plt.tight_layout()\n",
    "plt.show()"
   ]
  },
  {
   "cell_type": "markdown",
   "id": "d05065a5",
   "metadata": {},
   "source": [
    "###\n",
    "#κ vs Mass\tUniversality check\tStrengthens theoretical claim"
   ]
  },
  {
   "cell_type": "markdown",
   "id": "d98d4a10",
   "metadata": {},
   "source": [
    "# We'll calculate κ = 3 / (R * T) for different mass-based systems\n",
    "# Create a list of representative compact objects with known mass, temperature, and radius"
   ]
  },
  {
   "cell_type": "markdown",
   "id": "ada65af3",
   "metadata": {},
   "source": [
    "# Constants\n",
    "solar_mass = 1.98847e30  # kg\n",
    "G = 6.67430e-11          # m^3/kg/s^2\n",
    "c = 299792458            # m/s"
   ]
  },
  {
   "cell_type": "markdown",
   "id": "5bb58cf9",
   "metadata": {},
   "source": [
    "# Sample systems: name, mass (kg), temperature (K), radius (m)\n",
    "systems = [\n",
    "    (\"White Dwarf\", 1.0 * solar_mass, 1e5, 7e6),\n",
    "    (\"Neutron Star\", 1.4 * solar_mass, 1e6, 1.2e4),\n",
    "    (\"Pre-BH Core\", 20 * solar_mass, 1e10, 1.83e5),\n",
    "    (\"GW150914 BH\", 62 * solar_mass, 1.2e-8, 1.83e5),\n",
    "    (\"Primordial BH\", 1e12, 1e23, 1e-15),\n",
    "]"
   ]
  },
  {
   "cell_type": "markdown",
   "id": "abd0b070",
   "metadata": {},
   "source": [
    "# Compute κ and compactness (M/R)\n",
    "results = []\n",
    "for name, M, T, R in systems:\n",
    "    kappa = 3 / (R * T)\n",
    "    compactness = M / R\n",
    "    results.append((name, M, R, T, kappa, compactness))"
   ]
  },
  {
   "cell_type": "markdown",
   "id": "0f330c19",
   "metadata": {},
   "source": [
    "# Convert to DataFrame\n",
    "df_kappa_mass = pd.DataFrame(results, columns=[\"Object\", \"Mass (kg)\", \"Radius (m)\", \"Temp (K)\", \"κ (1/K)\", \"M/R (kg/m)\"])\n",
    "df_kappa_mass.sort_values(\"Mass (kg)\", inplace=True)\n",
    "df_kappa_mass.reset_index(drop=True, inplace=True)"
   ]
  },
  {
   "cell_type": "markdown",
   "id": "b7f952d1",
   "metadata": {},
   "source": [
    "# Plot κ vs Mass\n",
    "plt.figure(figsize=(10, 6))\n",
    "plt.loglog(df_kappa_mass[\"Mass (kg)\"], df_kappa_mass[\"κ (1/K)\"], marker='o')\n",
    "plt.xlabel(\"Mass (kg)\")\n",
    "plt.ylabel(\"Bruno Constant κ (1/K)\")\n",
    "plt.title(\"κ vs Mass: Universality Check\")\n",
    "plt.grid(True, which=\"both\", linestyle=\"--\")\n",
    "plt.tight_layout()\n",
    "plt.show()"
   ]
  },
  {
   "cell_type": "code",
   "execution_count": null,
   "id": "3832f018",
   "metadata": {},
   "outputs": [],
   "source": [
    "import ace_tools as tools; tools.display_dataframe_to_user(name=\"Bruno Constant vs Mass\", dataframe=df_kappa_mass)"
   ]
  },
  {
   "cell_type": "markdown",
   "id": "6247f3f2",
   "metadata": {},
   "source": [
    "###\n",
    "#CMB fluct. vs β_B\tCosmology\tBig swing, big win"
   ]
  },
  {
   "cell_type": "markdown",
   "id": "e544f45a",
   "metadata": {},
   "source": [
    "# Let's estimate beta_B = κ · T for the CMB and compare against structure formation/anisotropy scale"
   ]
  },
  {
   "cell_type": "markdown",
   "id": "82372d70",
   "metadata": {},
   "source": [
    "# Constants\n",
    "kappa = 1313               # Bruno constant (1/K)\n",
    "T_CMB = 2.725              # CMB average temperature in Kelvin\n",
    "beta_B_CMB = kappa * T_CMB"
   ]
  },
  {
   "cell_type": "markdown",
   "id": "a0c3003f",
   "metadata": {},
   "source": [
    "# Estimate a physical scale from early universe: last scattering surface radius ~ 4.3e26 m\n",
    "# We'll use the Bruno collapse condition: β_B = A/V = 3/R → R = 3/β_B\n",
    "R_Bruno_CMB = 3 / beta_B_CMB"
   ]
  },
  {
   "cell_type": "code",
   "execution_count": null,
   "id": "4dc823d2",
   "metadata": {},
   "outputs": [],
   "source": [
    "{\n",
    "    \"CMB Temperature (K)\": T_CMB,\n",
    "    \"β_B (CMB)\": beta_B_CMB,\n",
    "    \"Critical Collapse Radius at CMB (m)\": R_Bruno_CMB,\n",
    "    \"Last Scattering Surface Radius (m)\": 4.3e26,\n",
    "    \"Collapse within LSS?\": R_Bruno_CMB < 4.3e26\n",
    "}"
   ]
  },
  {
   "cell_type": "markdown",
   "id": "3bf1e196",
   "metadata": {},
   "source": [
    "###"
   ]
  },
  {
   "cell_type": "markdown",
   "id": "fb97d5df",
   "metadata": {},
   "source": [
    "### ✅ All collapse scripts successfully merged into this notebook.\n",
    "Use this to simulate, test, and visualize Bruno Collapse theory."
   ]
  },
  {
   "cell_type": "code",
   "execution_count": null,
   "id": "16e8db50-11a0-4efa-8c33-b02916bd934d",
   "metadata": {},
   "outputs": [],
   "source": []
  }
 ],
 "metadata": {
  "kernelspec": {
   "display_name": "Python 3 (ipykernel)",
   "language": "python",
   "name": "python3"
  },
  "language_info": {
   "codemirror_mode": {
    "name": "ipython",
    "version": 3
   },
   "file_extension": ".py",
   "mimetype": "text/x-python",
   "name": "python",
   "nbconvert_exporter": "python",
   "pygments_lexer": "ipython3",
   "version": "3.12.9"
  }
 },
 "nbformat": 4,
 "nbformat_minor": 5
}
