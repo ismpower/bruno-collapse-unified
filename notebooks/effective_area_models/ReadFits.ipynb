{
 "cells": [
  {
   "cell_type": "code",
   "execution_count": 1,
   "metadata": {},
   "outputs": [
    {
     "ename": "ModuleNotFoundError",
     "evalue": "No module named 'healpy'",
     "output_type": "error",
     "traceback": [
      "\u001b[1;31m---------------------------------------------------------------------------\u001b[0m",
      "\u001b[1;31mModuleNotFoundError\u001b[0m                       Traceback (most recent call last)",
      "Cell \u001b[1;32mIn[1], line 1\u001b[0m\n\u001b[1;32m----> 1\u001b[0m \u001b[38;5;28;01mimport\u001b[39;00m\u001b[38;5;250m \u001b[39m\u001b[38;5;21;01mhealpy\u001b[39;00m\u001b[38;5;250m \u001b[39m\u001b[38;5;28;01mas\u001b[39;00m\u001b[38;5;250m \u001b[39m\u001b[38;5;21;01mhp\u001b[39;00m\n\u001b[0;32m      2\u001b[0m \u001b[38;5;28;01mimport\u001b[39;00m\u001b[38;5;250m \u001b[39m\u001b[38;5;21;01mmatplotlib\u001b[39;00m\u001b[38;5;21;01m.\u001b[39;00m\u001b[38;5;21;01mpyplot\u001b[39;00m\u001b[38;5;250m \u001b[39m\u001b[38;5;28;01mas\u001b[39;00m\u001b[38;5;250m \u001b[39m\u001b[38;5;21;01mplt\u001b[39;00m\n\u001b[0;32m      3\u001b[0m \u001b[38;5;28;01mimport\u001b[39;00m\u001b[38;5;250m \u001b[39m\u001b[38;5;21;01mnumpy\u001b[39;00m\u001b[38;5;250m \u001b[39m\u001b[38;5;28;01mas\u001b[39;00m\u001b[38;5;250m \u001b[39m\u001b[38;5;21;01mnp\u001b[39;00m\n",
      "\u001b[1;31mModuleNotFoundError\u001b[0m: No module named 'healpy'"
     ]
    }
   ],
   "source": [
    "import healpy as hp\n",
    "import matplotlib.pyplot as plt\n",
    "import numpy as np\n",
    "\n",
    "def make_plot(skymap=None, header=None):\n",
    "    header = dict(header)\n",
    "    for key in header:\n",
    "        print(key, ' : ', header[key])\n",
    "    #print(header)\n",
    "\n",
    "    if skymap is not None:\n",
    "        cmap = plt.cm.YlOrBr\n",
    "        cmap.set_under('w')\n",
    "        hp.mollview(skymap, title=\"\", cbar=True, notext=True, rot=180, hold=False, cmap=cmap)\n",
    "        hp.graticule()\n",
    "        # add some labels\n",
    "        plt.text(2.0,0., r\"$0^\\circ$\", ha=\"left\", va=\"center\")\n",
    "        plt.text(1.9,0.45, r\"$30^\\circ$\", ha=\"left\", va=\"center\")\n",
    "        plt.text(1.4,0.8, r\"$60^\\circ$\", ha=\"left\", va=\"center\")\n",
    "        plt.text(1.9,-0.45, r\"$-30^\\circ$\", ha=\"left\", va=\"center\")\n",
    "        plt.text(1.4,-0.8, r\"$-60^\\circ$\", ha=\"left\", va=\"center\")\n",
    "        plt.text(2.0, -0.15, r\"$0\\,\\mathrm{h}$\", ha=\"center\", va=\"center\")\n",
    "        plt.text(1.333, -0.15, r\"$4\\,\\mathrm{h}$\", ha=\"center\", va=\"center\")\n",
    "        plt.text(.666, -0.15, r\"$8\\,\\mathrm{h}$\", ha=\"center\", va=\"center\")\n",
    "        plt.text(0.0, -0.15, r\"$12\\,\\mathrm{h}$\", ha=\"center\", va=\"center\")\n",
    "        plt.text(-.666, -0.15, r\"$16\\,\\mathrm{h}$\", ha=\"center\", va=\"center\")\n",
    "        plt.text(-1.333, -0.15, r\"$20\\,\\mathrm{h}$\", ha=\"center\", va=\"center\")\n",
    "        plt.text(-2.0, -0.15, r\"$0\\,\\mathrm{h}$\", ha=\"center\", va=\"center\")\n",
    "        plt.draw()\n",
    "    \n",
    "        print(skymap)\n",
    "        print(skymap.min())\n",
    "        print(np.amin(skymap))\n",
    "        min_bin = np.where(skymap == np.amin(skymap))[0][0]\n",
    "        print(min_bin)\n",
    "    \n",
    "        theta, phi = hp.pix2ang(1024, min_bin)\n",
    "        print (-np.degrees(theta-np.pi/2.), np.degrees(phi))\n",
    "\n",
    "        #memfile = io.BytesIO()\n",
    "        plt.savefig('tmp.png', format = 'png', dpi = 150)\n",
    "        #memfile.seek(0)\n",
    "    print(len(header),len(skymap),type(skymap[0]))\n",
    "        "
   ]
  },
  {
   "cell_type": "code",
   "execution_count": 2,
   "metadata": {},
   "outputs": [
    {
     "ename": "NameError",
     "evalue": "name 'hp' is not defined",
     "output_type": "error",
     "traceback": [
      "\u001b[1;31m---------------------------------------------------------------------------\u001b[0m",
      "\u001b[1;31mNameError\u001b[0m                                 Traceback (most recent call last)",
      "Cell \u001b[1;32mIn[2], line 1\u001b[0m\n\u001b[1;32m----> 1\u001b[0m skymap, header \u001b[38;5;241m=\u001b[39m \u001b[43mhp\u001b[49m\u001b[38;5;241m.\u001b[39mread_map(\u001b[38;5;124m'\u001b[39m\u001b[38;5;124m./fits_files/Run132043_80110393_nside1024.fits.gz\u001b[39m\u001b[38;5;124m'\u001b[39m,h\u001b[38;5;241m=\u001b[39m\u001b[38;5;28;01mTrue\u001b[39;00m, verbose\u001b[38;5;241m=\u001b[39m\u001b[38;5;28;01mFalse\u001b[39;00m)\n\u001b[0;32m      2\u001b[0m make_plot(skymap,header)\n",
      "\u001b[1;31mNameError\u001b[0m: name 'hp' is not defined"
     ]
    }
   ],
   "source": [
    "skymap, header = hp.read_map('./fits_files/Run132043_80110393_nside1024.fits.gz',h=True, verbose=False)\n",
    "make_plot(skymap,header)"
   ]
  },
  {
   "cell_type": "code",
   "execution_count": null,
   "metadata": {},
   "outputs": [],
   "source": []
  }
 ],
 "metadata": {
  "kernelspec": {
   "display_name": "Python 3 (ipykernel)",
   "language": "python",
   "name": "python3"
  },
  "language_info": {
   "codemirror_mode": {
    "name": "ipython",
    "version": 3
   },
   "file_extension": ".py",
   "mimetype": "text/x-python",
   "name": "python",
   "nbconvert_exporter": "python",
   "pygments_lexer": "ipython3",
   "version": "3.12.9"
  }
 },
 "nbformat": 4,
 "nbformat_minor": 4
}
