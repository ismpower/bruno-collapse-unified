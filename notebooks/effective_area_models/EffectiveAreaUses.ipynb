{
 "cells": [
  {
   "cell_type": "markdown",
   "metadata": {},
   "source": [
    "Effective areas for IceCube Realtime Track Neutrino alerts\n",
    "\n",
    "Effective areas are a useful quantity for categorizing the overall sensitivity of a neutrino detector like IceCube, including triggering and event selection effects.  Given it's position at the South Pole, all variation in sensitivity can be quanitified in neutrino energy and declination.\n",
    "\n",
    "Additional information on calculation and use of effective areas can be found:\n",
    "\"All-sky Search for Time-integrated Neutrino Emission from Astrophysical Sources with 7 yr of IceCube Data\"\n",
    "Citation: M. G. Aartsen et al 2017 ApJ 835 151\n",
    "DOI: 10.3847/1538-4357/835/2/151\n",
    "\n",
    "We quantify the effective area separately for each of the IceCube internal event selections that contribute to the effective area. Details on each of these selection is in the supporting catalog paper:\n",
    "* Effa_gfugold.txt - GFU Gold seletion\n",
    "* Effa_ehegold.txt - EHE Gold selection\n",
    "* Effa_hesegold.txt - HESE Gold selection\n",
    "* Effa_gfubronze.txt - GFU Bronze selection\n",
    "* Effa_hesebronze.txt - HESE Bronze selection\n",
    "\n",
    "As the combination of these alerts with properly accounting for overlap of events in selections, we also provide the effective areas for the combined selection at the Gold level selections and the Gold + Bronze level selections, which serve as good representations of the overall sensitivty of the alert selections:\n",
    "* Effa_all_streams_gold_only.txt - Overall GOLD selection effective areas\n",
    "* Effa_all_streams_gold_bronze.txt - Overall GOLD+BRONZE selection effective areas\n",
    "\n",
    "These effective areas are binned in neutrino energy (10 TeV - 500 PeV) and in broad declination (stored internally in the files as local zenith angle) bins that reflect the major changes in effective area due to background rejection in the down-going direction and Earth absorption at higher energies for the up-going directions.\n",
    "* Declination boundaries (90 deg, 30 deg, 0 deg, -5 deg, -30 deg, -90 deg)"
   ]
  },
  {
   "cell_type": "markdown",
   "metadata": {},
   "source": [
    "Plot effective areas."
   ]
  },
  {
   "cell_type": "code",
   "execution_count": 1,
   "metadata": {},
   "outputs": [
    {
     "ename": "FileNotFoundError",
     "evalue": "eff_area/Effa_all_streams_gold_bronze.txt not found.",
     "output_type": "error",
     "traceback": [
      "\u001b[1;31m---------------------------------------------------------------------------\u001b[0m",
      "\u001b[1;31mFileNotFoundError\u001b[0m                         Traceback (most recent call last)",
      "Cell \u001b[1;32mIn[1], line 16\u001b[0m\n\u001b[0;32m     14\u001b[0m color_list \u001b[38;5;241m=\u001b[39m [\u001b[38;5;124m'\u001b[39m\u001b[38;5;124mb\u001b[39m\u001b[38;5;124m'\u001b[39m, \u001b[38;5;124m'\u001b[39m\u001b[38;5;124my\u001b[39m\u001b[38;5;124m'\u001b[39m, \u001b[38;5;124m'\u001b[39m\u001b[38;5;124mk\u001b[39m\u001b[38;5;124m'\u001b[39m, \u001b[38;5;124m'\u001b[39m\u001b[38;5;124mr\u001b[39m\u001b[38;5;124m'\u001b[39m, \u001b[38;5;124m'\u001b[39m\u001b[38;5;124mc\u001b[39m\u001b[38;5;124m'\u001b[39m]\n\u001b[0;32m     15\u001b[0m \u001b[38;5;66;03m#Read effective area\u001b[39;00m\n\u001b[1;32m---> 16\u001b[0m effA \u001b[38;5;241m=\u001b[39m \u001b[43mnp\u001b[49m\u001b[38;5;241;43m.\u001b[39;49m\u001b[43mgenfromtxt\u001b[49m\u001b[43m(\u001b[49m\u001b[38;5;124;43m'\u001b[39;49m\u001b[38;5;124;43meff_area/Effa_all_streams_gold_bronze.txt\u001b[39;49m\u001b[38;5;124;43m'\u001b[39;49m\u001b[43m)\u001b[49m\n\u001b[0;32m     17\u001b[0m \u001b[38;5;66;03m#effA = np.genfromtxt('eff_area/Effa_all_streams_gold_only.txt')\u001b[39;00m\n\u001b[0;32m     20\u001b[0m ebins \u001b[38;5;241m=\u001b[39m effA[:,\u001b[38;5;241m0\u001b[39m]\n",
      "File \u001b[1;32mC:\\Python312\\Lib\\site-packages\\numpy\\lib\\_npyio_impl.py:1990\u001b[0m, in \u001b[0;36mgenfromtxt\u001b[1;34m(fname, dtype, comments, delimiter, skip_header, skip_footer, converters, missing_values, filling_values, usecols, names, excludelist, deletechars, replace_space, autostrip, case_sensitive, defaultfmt, unpack, usemask, loose, invalid_raise, max_rows, encoding, ndmin, like)\u001b[0m\n\u001b[0;32m   1988\u001b[0m     fname \u001b[38;5;241m=\u001b[39m os\u001b[38;5;241m.\u001b[39mfspath(fname)\n\u001b[0;32m   1989\u001b[0m \u001b[38;5;28;01mif\u001b[39;00m \u001b[38;5;28misinstance\u001b[39m(fname, \u001b[38;5;28mstr\u001b[39m):\n\u001b[1;32m-> 1990\u001b[0m     fid \u001b[38;5;241m=\u001b[39m \u001b[43mnp\u001b[49m\u001b[38;5;241;43m.\u001b[39;49m\u001b[43mlib\u001b[49m\u001b[38;5;241;43m.\u001b[39;49m\u001b[43m_datasource\u001b[49m\u001b[38;5;241;43m.\u001b[39;49m\u001b[43mopen\u001b[49m\u001b[43m(\u001b[49m\u001b[43mfname\u001b[49m\u001b[43m,\u001b[49m\u001b[43m \u001b[49m\u001b[38;5;124;43m'\u001b[39;49m\u001b[38;5;124;43mrt\u001b[39;49m\u001b[38;5;124;43m'\u001b[39;49m\u001b[43m,\u001b[49m\u001b[43m \u001b[49m\u001b[43mencoding\u001b[49m\u001b[38;5;241;43m=\u001b[39;49m\u001b[43mencoding\u001b[49m\u001b[43m)\u001b[49m\n\u001b[0;32m   1991\u001b[0m     fid_ctx \u001b[38;5;241m=\u001b[39m contextlib\u001b[38;5;241m.\u001b[39mclosing(fid)\n\u001b[0;32m   1992\u001b[0m \u001b[38;5;28;01melse\u001b[39;00m:\n",
      "File \u001b[1;32mC:\\Python312\\Lib\\site-packages\\numpy\\lib\\_datasource.py:192\u001b[0m, in \u001b[0;36mopen\u001b[1;34m(path, mode, destpath, encoding, newline)\u001b[0m\n\u001b[0;32m    155\u001b[0m \u001b[38;5;250m\u001b[39m\u001b[38;5;124;03m\"\"\"\u001b[39;00m\n\u001b[0;32m    156\u001b[0m \u001b[38;5;124;03mOpen `path` with `mode` and return the file object.\u001b[39;00m\n\u001b[0;32m    157\u001b[0m \n\u001b[1;32m   (...)\u001b[0m\n\u001b[0;32m    188\u001b[0m \n\u001b[0;32m    189\u001b[0m \u001b[38;5;124;03m\"\"\"\u001b[39;00m\n\u001b[0;32m    191\u001b[0m ds \u001b[38;5;241m=\u001b[39m DataSource(destpath)\n\u001b[1;32m--> 192\u001b[0m \u001b[38;5;28;01mreturn\u001b[39;00m \u001b[43mds\u001b[49m\u001b[38;5;241;43m.\u001b[39;49m\u001b[43mopen\u001b[49m\u001b[43m(\u001b[49m\u001b[43mpath\u001b[49m\u001b[43m,\u001b[49m\u001b[43m \u001b[49m\u001b[43mmode\u001b[49m\u001b[43m,\u001b[49m\u001b[43m \u001b[49m\u001b[43mencoding\u001b[49m\u001b[38;5;241;43m=\u001b[39;49m\u001b[43mencoding\u001b[49m\u001b[43m,\u001b[49m\u001b[43m \u001b[49m\u001b[43mnewline\u001b[49m\u001b[38;5;241;43m=\u001b[39;49m\u001b[43mnewline\u001b[49m\u001b[43m)\u001b[49m\n",
      "File \u001b[1;32mC:\\Python312\\Lib\\site-packages\\numpy\\lib\\_datasource.py:529\u001b[0m, in \u001b[0;36mDataSource.open\u001b[1;34m(self, path, mode, encoding, newline)\u001b[0m\n\u001b[0;32m    526\u001b[0m     \u001b[38;5;28;01mreturn\u001b[39;00m _file_openers[ext](found, mode\u001b[38;5;241m=\u001b[39mmode,\n\u001b[0;32m    527\u001b[0m                               encoding\u001b[38;5;241m=\u001b[39mencoding, newline\u001b[38;5;241m=\u001b[39mnewline)\n\u001b[0;32m    528\u001b[0m \u001b[38;5;28;01melse\u001b[39;00m:\n\u001b[1;32m--> 529\u001b[0m     \u001b[38;5;28;01mraise\u001b[39;00m \u001b[38;5;167;01mFileNotFoundError\u001b[39;00m(\u001b[38;5;124mf\u001b[39m\u001b[38;5;124m\"\u001b[39m\u001b[38;5;132;01m{\u001b[39;00mpath\u001b[38;5;132;01m}\u001b[39;00m\u001b[38;5;124m not found.\u001b[39m\u001b[38;5;124m\"\u001b[39m)\n",
      "\u001b[1;31mFileNotFoundError\u001b[0m: eff_area/Effa_all_streams_gold_bronze.txt not found."
     ]
    }
   ],
   "source": [
    "import numpy as np\n",
    "import matplotlib as mpl\n",
    "mpl.rc('font',family='serif',size=16)\n",
    "mpl.rc(\"text\",usetex = True)\n",
    "import matplotlib.pyplot as plt\n",
    "\n",
    "#Generate Declination bins\n",
    "bins_coszen = [180, 120, 90, 85, 60, 0]\n",
    "coszen_min = bins_coszen[:-1]\n",
    "coszen_max = bins_coszen[1:]\n",
    "cmin = [a-90 for a in coszen_min]\n",
    "cmax = [a-90 for a in coszen_max]\n",
    "\n",
    "color_list = ['b', 'y', 'k', 'r', 'c']\n",
    "#Read effective area\n",
    "effA = np.genfromtxt('eff_area/Effa_all_streams_gold_bronze.txt')\n",
    "#effA = np.genfromtxt('eff_area/Effa_all_streams_gold_only.txt')\n",
    "\n",
    "\n",
    "ebins = effA[:,0]\n",
    "\n",
    "plt.figure(figsize = (8,8))\n",
    "ax1 = plt.subplot (1, 1, 1)\n",
    "\n",
    "for i,mx,mn in zip(range(1,6),cmax,cmin):\n",
    "    eA = effA[:,i]\n",
    "    ax1.plot(ebins,eA,drawstyle='steps-post', color=color_list[i-1], linewidth=2.5,\n",
    "                  label=r'${:.2f}^\\circ \\leq \\delta  < {:.2f}^\\circ$'.format((mx), (mn)))\n",
    "\n",
    "# Plot the overall stuff\n",
    "ax1.set_ylim(1e-1,5e4) \n",
    "ax1.set_xlim(1e4, 5e8)\n",
    "\n",
    "#plt.grid(True)\n",
    "ax1.set_yscale('log')\n",
    "ax1.set_xscale('log')\n",
    "ax1.set_ylabel(r'Effective Area (m$^{2}$)')\n",
    "ax1.set_xlabel('Neutrino Energy (GeV)')\n",
    "\n",
    "ax1.tick_params(axis='y', which='major', labelsize=16, length = 16, width = 1, direction = 'in', right = 'on', top = 'on')\n",
    "ax1.tick_params(axis='x', which='major', labelsize=16, length = 16, width = 1, direction = 'in', right = 'on', top = 'on', pad = 7)\n",
    "ax1.tick_params(axis='both', which='minor', labelsize=10, length = 8, width = 1, direction = 'in', right = 'on', top = 'on')\n",
    "ax1.legend(loc='upper left', ncol=1, fancybox=True)\n",
    "\n",
    "# Set grid lines\n",
    "for ymaj in ax1.yaxis.get_majorticklocs():\n",
    "        ax1.axhline (y=ymaj,ls=':', color='gray', alpha =0.75, linewidth=0.5)\n",
    "for xmaj in ax1.xaxis.get_majorticklocs():\n",
    "        ax1.axvline (x=xmaj,ls=':', color='gray', alpha =0.75, linewidth=0.5)\n",
    "\n",
    "plt.title('IceCube Track Alerts Gold + Bronze Effective Area')\n",
    "#plt.title('IceCube Track Alerts Gold Effective Area')\n",
    "plt.show()"
   ]
  },
  {
   "cell_type": "markdown",
   "metadata": {},
   "source": [
    "Use the effective area to estimate the number of events from the entire sky.\n",
    "\n",
    "To do this, the effective area over the 5 declination bands is flattened to a single all-sky declination band using\n",
    "the relative area of each band as a weight.\n",
    "\n",
    "Then a power-law astrophysical flux is convolved with the effective area to generate number of alerts expected per year"
   ]
  },
  {
   "cell_type": "code",
   "execution_count": null,
   "metadata": {},
   "outputs": [],
   "source": [
    "import numpy as np\n",
    "\n",
    "# Astrophysical muon neutrino flux found in:  https://iopscience.iop.org/article/10.3847/1538-4357/ac4d29\n",
    "index = -2.37\n",
    "flux =1.44e-18\n",
    "\n",
    "# Astrophysical muon neutrino flux found in: https://gcn.gsfc.nasa.gov/doc/IceCube_High_Energy_Neutrino_Track_Alerts_v2.pdf\n",
    "#index = -2.19\n",
    "#flux =0.9e-18\n",
    "\n",
    "\n",
    "days = 365.25\n",
    "\n",
    "\n",
    "Afile = np.genfromtxt('eff_area/Effa_all_streams_gold_bronze.txt')\n",
    "#Afile = np.genfromtxt('eff_area/Effa_all_streams_gold_only.txt')\n",
    "energy_bins = Afile[:,0]\n",
    "\n",
    "\n",
    "#flatten the A_eff from mutiple zenith bands\n",
    "bin_zenith_bound = [180, 120, 90, 85, 60, 0]\n",
    "bin_coszen_bound = np.cos(np.deg2rad(bin_zenith_bound))\n",
    "#print (bin_coszen_bound)\n",
    "A_eff_bins = Afile[:,1:]\n",
    "#print(A_eff_bins)\n",
    "all_zen_aeff = []\n",
    "for e_bin in range(0,len(energy_bins)):\n",
    "    this_bin_aeff = 0\n",
    "    norm=0\n",
    "    for item in range(1,len(bin_coszen_bound)):\n",
    "        this_bin_aeff += A_eff_bins[e_bin][item-1]*(bin_coszen_bound[item]-bin_coszen_bound[item-1])\n",
    "        norm += (bin_coszen_bound[item]-bin_coszen_bound[item-1])\n",
    "    all_zen_aeff.append(this_bin_aeff/norm)\n",
    "\n",
    "\n",
    "nus = 0 \n",
    "for i in range(1,len(energy_bins)): \n",
    "    #print (all_zen_aeff[i], energy_bins[i])\n",
    "    e_bin_width = energy_bins[i] - energy_bins[i-1] \n",
    "    nus += e_bin_width*all_zen_aeff[i] * 10000 * 86400 * days * 4*np.pi*flux *(energy_bins[i]/100000)**index\n",
    "print(nus)"
   ]
  },
  {
   "cell_type": "code",
   "execution_count": null,
   "metadata": {},
   "outputs": [],
   "source": []
  }
 ],
 "metadata": {
  "kernelspec": {
   "display_name": "Python 3 (ipykernel)",
   "language": "python",
   "name": "python3"
  },
  "language_info": {
   "codemirror_mode": {
    "name": "ipython",
    "version": 3
   },
   "file_extension": ".py",
   "mimetype": "text/x-python",
   "name": "python",
   "nbconvert_exporter": "python",
   "pygments_lexer": "ipython3",
   "version": "3.12.9"
  }
 },
 "nbformat": 4,
 "nbformat_minor": 4
}
