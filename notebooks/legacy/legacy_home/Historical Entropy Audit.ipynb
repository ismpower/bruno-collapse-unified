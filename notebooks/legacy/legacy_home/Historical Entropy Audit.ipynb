{
 "cells": [
  {
   "cell_type": "code",
   "execution_count": 7,
   "id": "eaab92be-1e58-4666-bb5b-300b088d8b62",
   "metadata": {},
   "outputs": [],
   "source": [
    "import numpy as np\n",
    "import pandas as pd\n",
    "import matplotlib.pyplot as plt\n"
   ]
  },
  {
   "cell_type": "code",
   "execution_count": 8,
   "id": "cbd381bf-d66a-4c93-90bd-8fe4569cdc1a",
   "metadata": {},
   "outputs": [],
   "source": [
    "def compute_fluence(E_erg, D_Mpc):\n",
    "    \"\"\"\n",
    "    Compute fluence in J/m² for a given energy (erg) and distance (Mpc).\n",
    "    \"\"\"\n",
    "    E_joule = E_erg * 1e-7\n",
    "    D_meter = D_Mpc * 3.086e22\n",
    "    return E_joule / (4 * np.pi * D_meter**2)\n"
   ]
  },
  {
   "cell_type": "code",
   "execution_count": 9,
   "id": "5d917da7-bb4a-4b9c-b4e2-bfa96ed72752",
   "metadata": {},
   "outputs": [],
   "source": [
    "def required_energy_for_projection(D_Mpc, threshold=1e-5):\n",
    "    \"\"\"\n",
    "    Compute the minimum energy (erg) required to exceed collapse threshold fluence at given distance.\n",
    "    \"\"\"\n",
    "    D_meter = D_Mpc * 3.086e22\n",
    "    E_joule = 4 * np.pi * D_meter**2 * threshold\n",
    "    return E_joule * 1e7  # convert back to erg\n"
   ]
  },
  {
   "cell_type": "code",
   "execution_count": 10,
   "id": "89afef60-b2ee-4f5c-b4ba-20ccd4c33446",
   "metadata": {},
   "outputs": [],
   "source": [
    "historical_events = pd.DataFrame([\n",
    "    {\n",
    "        \"name\": \"SN1987A\", \"type\": \"SN\", \"distance_Mpc\": 0.05, \"energy_erg\": 1e53,\n",
    "        \"observed_neutrinos\": True, \"neutrino_detectors\": [\"Kamiokande-II\", \"IMB\", \"Baksan\"]\n",
    "    },\n",
    "    {\n",
    "        \"name\": \"GW170817\", \"type\": \"NS merger\", \"distance_Mpc\": 40, \"energy_erg\": 1e52,\n",
    "        \"observed_neutrinos\": False, \"neutrino_detectors\": [\"IceCube\", \"ANTARES\", \"Super-K\"]\n",
    "    },\n",
    "    {\n",
    "        \"name\": \"GW150914\", \"type\": \"BH merger\", \"distance_Mpc\": 410, \"energy_erg\": 5e54,\n",
    "        \"observed_neutrinos\": False, \"neutrino_detectors\": [\"IceCube\", \"ANTARES\"]\n",
    "    },\n",
    "    {\n",
    "        \"name\": \"SN2016aps\", \"type\": \"SN\", \"distance_Mpc\": 350, \"energy_erg\": 4e53,\n",
    "        \"observed_neutrinos\": False, \"neutrino_detectors\": [\"IceCube\", \"Super-K\"]\n",
    "    },\n",
    "    {\n",
    "        \"name\": \"GW190521\", \"type\": \"BH merger\", \"distance_Mpc\": 530, \"energy_erg\": 8e54,\n",
    "        \"observed_neutrinos\": False, \"neutrino_detectors\": [\"IceCube\"]\n",
    "    }\n",
    "])\n"
   ]
  },
  {
   "cell_type": "code",
   "execution_count": 11,
   "id": "db8dc406-efe1-4188-a2f4-88e1df328c5d",
   "metadata": {},
   "outputs": [],
   "source": [
    "threshold = 1e-5  # Bruno collapse threshold in J/m²\n",
    "\n",
    "def classify_event(row):\n",
    "    fluence = compute_fluence(row[\"energy_erg\"], row[\"distance_Mpc\"])\n",
    "    required = required_energy_for_projection(row[\"distance_Mpc\"], threshold)\n",
    "    return pd.Series({\n",
    "        \"fluence_J_per_m2\": fluence,\n",
    "        \"log10_fluence\": np.log10(fluence),\n",
    "        \"required_energy_erg\": required,\n",
    "        \"log10_required_energy\": np.log10(required),\n",
    "        \"collapse_predicted\": fluence >= threshold,\n",
    "        \"matches_observation\": (fluence >= threshold) == row[\"observed_neutrinos\"]\n",
    "    })\n",
    "\n",
    "# Apply the classification\n",
    "audit = historical_events.join(historical_events.apply(classify_event, axis=1))\n"
   ]
  },
  {
   "cell_type": "code",
   "execution_count": 12,
   "id": "b33c0559-7a50-4bed-94a1-3f52e3873284",
   "metadata": {},
   "outputs": [
    {
     "name": "stdout",
     "output_type": "stream",
     "text": [
      "📜 Historical Entropy Collapse Audit:\n"
     ]
    },
    {
     "data": {
      "text/html": [
       "<div>\n",
       "<style scoped>\n",
       "    .dataframe tbody tr th:only-of-type {\n",
       "        vertical-align: middle;\n",
       "    }\n",
       "\n",
       "    .dataframe tbody tr th {\n",
       "        vertical-align: top;\n",
       "    }\n",
       "\n",
       "    .dataframe thead th {\n",
       "        text-align: right;\n",
       "    }\n",
       "</style>\n",
       "<table border=\"1\" class=\"dataframe\">\n",
       "  <thead>\n",
       "    <tr style=\"text-align: right;\">\n",
       "      <th></th>\n",
       "      <th>name</th>\n",
       "      <th>type</th>\n",
       "      <th>distance_Mpc</th>\n",
       "      <th>energy_erg</th>\n",
       "      <th>fluence_J_per_m2</th>\n",
       "      <th>collapse_predicted</th>\n",
       "      <th>observed_neutrinos</th>\n",
       "      <th>matches_observation</th>\n",
       "    </tr>\n",
       "  </thead>\n",
       "  <tbody>\n",
       "    <tr>\n",
       "      <th>0</th>\n",
       "      <td>SN1987A</td>\n",
       "      <td>SN</td>\n",
       "      <td>0.05</td>\n",
       "      <td>1.000000e+53</td>\n",
       "      <td>334.239893</td>\n",
       "      <td>True</td>\n",
       "      <td>True</td>\n",
       "      <td>True</td>\n",
       "    </tr>\n",
       "    <tr>\n",
       "      <th>1</th>\n",
       "      <td>GW170817</td>\n",
       "      <td>NS merger</td>\n",
       "      <td>40.00</td>\n",
       "      <td>1.000000e+52</td>\n",
       "      <td>0.000052</td>\n",
       "      <td>True</td>\n",
       "      <td>False</td>\n",
       "      <td>False</td>\n",
       "    </tr>\n",
       "    <tr>\n",
       "      <th>2</th>\n",
       "      <td>GW150914</td>\n",
       "      <td>BH merger</td>\n",
       "      <td>410.00</td>\n",
       "      <td>5.000000e+54</td>\n",
       "      <td>0.000249</td>\n",
       "      <td>True</td>\n",
       "      <td>False</td>\n",
       "      <td>False</td>\n",
       "    </tr>\n",
       "    <tr>\n",
       "      <th>3</th>\n",
       "      <td>SN2016aps</td>\n",
       "      <td>SN</td>\n",
       "      <td>350.00</td>\n",
       "      <td>4.000000e+53</td>\n",
       "      <td>0.000027</td>\n",
       "      <td>True</td>\n",
       "      <td>False</td>\n",
       "      <td>False</td>\n",
       "    </tr>\n",
       "    <tr>\n",
       "      <th>4</th>\n",
       "      <td>GW190521</td>\n",
       "      <td>BH merger</td>\n",
       "      <td>530.00</td>\n",
       "      <td>8.000000e+54</td>\n",
       "      <td>0.000238</td>\n",
       "      <td>True</td>\n",
       "      <td>False</td>\n",
       "      <td>False</td>\n",
       "    </tr>\n",
       "  </tbody>\n",
       "</table>\n",
       "</div>"
      ],
      "text/plain": [
       "        name       type  distance_Mpc    energy_erg  fluence_J_per_m2  \\\n",
       "0    SN1987A         SN          0.05  1.000000e+53        334.239893   \n",
       "1   GW170817  NS merger         40.00  1.000000e+52          0.000052   \n",
       "2   GW150914  BH merger        410.00  5.000000e+54          0.000249   \n",
       "3  SN2016aps         SN        350.00  4.000000e+53          0.000027   \n",
       "4   GW190521  BH merger        530.00  8.000000e+54          0.000238   \n",
       "\n",
       "   collapse_predicted  observed_neutrinos  matches_observation  \n",
       "0                True                True                 True  \n",
       "1                True               False                False  \n",
       "2                True               False                False  \n",
       "3                True               False                False  \n",
       "4                True               False                False  "
      ]
     },
     "metadata": {},
     "output_type": "display_data"
    }
   ],
   "source": [
    "display_cols = [\"name\", \"type\", \"distance_Mpc\", \"energy_erg\",\n",
    "                \"fluence_J_per_m2\", \"collapse_predicted\", \"observed_neutrinos\", \"matches_observation\"]\n",
    "\n",
    "print(\"📜 Historical Entropy Collapse Audit:\")\n",
    "display(audit[display_cols])\n"
   ]
  },
  {
   "cell_type": "code",
   "execution_count": null,
   "id": "28f779d8-a6aa-4564-9292-76dfd0f17277",
   "metadata": {},
   "outputs": [],
   "source": []
  },
  {
   "cell_type": "code",
   "execution_count": null,
   "id": "7eb831db-692b-44ad-95f5-447003f2f48f",
   "metadata": {},
   "outputs": [],
   "source": []
  }
 ],
 "metadata": {
  "kernelspec": {
   "display_name": "Python 3 (ipykernel)",
   "language": "python",
   "name": "python3"
  },
  "language_info": {
   "codemirror_mode": {
    "name": "ipython",
    "version": 3
   },
   "file_extension": ".py",
   "mimetype": "text/x-python",
   "name": "python",
   "nbconvert_exporter": "python",
   "pygments_lexer": "ipython3",
   "version": "3.12.9"
  }
 },
 "nbformat": 4,
 "nbformat_minor": 5
}
