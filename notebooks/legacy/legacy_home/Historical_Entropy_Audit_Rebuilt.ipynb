{
 "cells": [
  {
   "cell_type": "markdown",
   "id": "9b18d716",
   "metadata": {},
   "source": [
    "# 🔭 Historical Entropy Audit\n",
    "\n",
    "This notebook analyzes historical astronomical events using the Bruno entropy collapse model, estimates fluence at Earth, predicts collapse likelihood, and simulates neutrino detection using `snewpy`."
   ]
  },
  {
   "cell_type": "code",
   "execution_count": 9,
   "id": "3047796f",
   "metadata": {},
   "outputs": [],
   "source": [
    "\n",
    "import numpy as np\n",
    "import pandas as pd\n",
    "import matplotlib.pyplot as plt\n"
   ]
  },
  {
   "cell_type": "code",
   "execution_count": 10,
   "id": "63fc95c9",
   "metadata": {},
   "outputs": [],
   "source": [
    "\n",
    "historical_events = pd.DataFrame([\n",
    "    {\"name\": \"SN1987A\", \"type\": \"SN\", \"distance_Mpc\": 0.05, \"energy_erg\": 1e53, \"observed_neutrinos\": True, \"neutrino_detectors\": [\"Kamiokande-II\", \"IMB\", \"Baksan\"]},\n",
    "    {\"name\": \"GW170817\", \"type\": \"NS merger\", \"distance_Mpc\": 40, \"energy_erg\": 1e52, \"observed_neutrinos\": False, \"neutrino_detectors\": [\"IceCube\", \"ANTARES\", \"Super-K\"]},\n",
    "    {\"name\": \"GW150914\", \"type\": \"BH merger\", \"distance_Mpc\": 410, \"energy_erg\": 5e54, \"observed_neutrinos\": False, \"neutrino_detectors\": [\"IceCube\", \"ANTARES\"]},\n",
    "    {\"name\": \"SN2016aps\", \"type\": \"SN\", \"distance_Mpc\": 350, \"energy_erg\": 4e53, \"observed_neutrinos\": False, \"neutrino_detectors\": [\"IceCube\", \"Super-K\"]},\n",
    "    {\"name\": \"GW190521\", \"type\": \"BH merger\", \"distance_Mpc\": 530, \"energy_erg\": 8e54, \"observed_neutrinos\": False, \"neutrino_detectors\": [\"IceCube\"]}\n",
    "])\n"
   ]
  },
  {
   "cell_type": "code",
   "execution_count": 11,
   "id": "72e6decf",
   "metadata": {},
   "outputs": [],
   "source": [
    "\n",
    "def compute_fluence(E_erg, D_Mpc):\n",
    "    E_joule = E_erg * 1e-7\n",
    "    D_meter = D_Mpc * 3.086e22\n",
    "    return E_joule / (4 * np.pi * D_meter**2)\n",
    "\n",
    "def required_energy_for_projection(D_Mpc, threshold=1e-5):\n",
    "    D_meter = D_Mpc * 3.086e22\n",
    "    E_joule = 4 * np.pi * D_meter**2 * threshold\n",
    "    return E_joule * 1e7\n",
    "\n",
    "threshold = 1e-5\n",
    "\n",
    "def classify_event(row):\n",
    "    fluence = compute_fluence(row[\"energy_erg\"], row[\"distance_Mpc\"])\n",
    "    required = required_energy_for_projection(row[\"distance_Mpc\"], threshold)\n",
    "    return pd.Series({\n",
    "        \"fluence_J_per_m2\": fluence,\n",
    "        \"log10_fluence\": np.log10(fluence),\n",
    "        \"required_energy_erg\": required,\n",
    "        \"log10_required_energy\": np.log10(required),\n",
    "        \"collapse_predicted\": fluence >= threshold,\n",
    "        \"matches_observation\": (fluence >= threshold) == row[\"observed_neutrinos\"]\n",
    "    })\n",
    "\n",
    "audit = historical_events.join(historical_events.apply(classify_event, axis=1))\n"
   ]
  },
  {
   "cell_type": "code",
   "execution_count": 12,
   "id": "4236ffbe",
   "metadata": {},
   "outputs": [
    {
     "data": {
      "text/html": [
       "<div>\n",
       "<style scoped>\n",
       "    .dataframe tbody tr th:only-of-type {\n",
       "        vertical-align: middle;\n",
       "    }\n",
       "\n",
       "    .dataframe tbody tr th {\n",
       "        vertical-align: top;\n",
       "    }\n",
       "\n",
       "    .dataframe thead th {\n",
       "        text-align: right;\n",
       "    }\n",
       "</style>\n",
       "<table border=\"1\" class=\"dataframe\">\n",
       "  <thead>\n",
       "    <tr style=\"text-align: right;\">\n",
       "      <th></th>\n",
       "      <th>name</th>\n",
       "      <th>type</th>\n",
       "      <th>distance_Mpc</th>\n",
       "      <th>energy_erg</th>\n",
       "      <th>collapse_predicted</th>\n",
       "      <th>observed_neutrinos</th>\n",
       "      <th>fluence_J_per_m2</th>\n",
       "    </tr>\n",
       "  </thead>\n",
       "  <tbody>\n",
       "    <tr>\n",
       "      <th>0</th>\n",
       "      <td>SN1987A</td>\n",
       "      <td>SN</td>\n",
       "      <td>0.05</td>\n",
       "      <td>1.000000e+53</td>\n",
       "      <td>True</td>\n",
       "      <td>True</td>\n",
       "      <td>334.239893</td>\n",
       "    </tr>\n",
       "    <tr>\n",
       "      <th>1</th>\n",
       "      <td>GW170817</td>\n",
       "      <td>NS merger</td>\n",
       "      <td>40.00</td>\n",
       "      <td>1.000000e+52</td>\n",
       "      <td>True</td>\n",
       "      <td>False</td>\n",
       "      <td>0.000052</td>\n",
       "    </tr>\n",
       "    <tr>\n",
       "      <th>2</th>\n",
       "      <td>GW150914</td>\n",
       "      <td>BH merger</td>\n",
       "      <td>410.00</td>\n",
       "      <td>5.000000e+54</td>\n",
       "      <td>True</td>\n",
       "      <td>False</td>\n",
       "      <td>0.000249</td>\n",
       "    </tr>\n",
       "    <tr>\n",
       "      <th>3</th>\n",
       "      <td>SN2016aps</td>\n",
       "      <td>SN</td>\n",
       "      <td>350.00</td>\n",
       "      <td>4.000000e+53</td>\n",
       "      <td>True</td>\n",
       "      <td>False</td>\n",
       "      <td>0.000027</td>\n",
       "    </tr>\n",
       "    <tr>\n",
       "      <th>4</th>\n",
       "      <td>GW190521</td>\n",
       "      <td>BH merger</td>\n",
       "      <td>530.00</td>\n",
       "      <td>8.000000e+54</td>\n",
       "      <td>True</td>\n",
       "      <td>False</td>\n",
       "      <td>0.000238</td>\n",
       "    </tr>\n",
       "  </tbody>\n",
       "</table>\n",
       "</div>"
      ],
      "text/plain": [
       "        name       type  distance_Mpc    energy_erg  collapse_predicted  \\\n",
       "0    SN1987A         SN          0.05  1.000000e+53                True   \n",
       "1   GW170817  NS merger         40.00  1.000000e+52                True   \n",
       "2   GW150914  BH merger        410.00  5.000000e+54                True   \n",
       "3  SN2016aps         SN        350.00  4.000000e+53                True   \n",
       "4   GW190521  BH merger        530.00  8.000000e+54                True   \n",
       "\n",
       "   observed_neutrinos  fluence_J_per_m2  \n",
       "0                True        334.239893  \n",
       "1               False          0.000052  \n",
       "2               False          0.000249  \n",
       "3               False          0.000027  \n",
       "4               False          0.000238  "
      ]
     },
     "execution_count": 12,
     "metadata": {},
     "output_type": "execute_result"
    }
   ],
   "source": [
    "\n",
    "display_cols = [\"name\", \"type\", \"distance_Mpc\", \"energy_erg\", \"collapse_predicted\", \"observed_neutrinos\", \"fluence_J_per_m2\", \"SuperK_IBD_counts\"]\n",
    "audit[display_cols[:-1]]\n"
   ]
  },
  {
   "cell_type": "code",
   "execution_count": 15,
   "id": "25f84d8d-ad16-42f4-bbc3-55f38faa79fb",
   "metadata": {},
   "outputs": [
    {
     "name": "stderr",
     "output_type": "stream",
     "text": [
      "C:\\Users\\ichaj\\AppData\\Local\\Temp\\ipykernel_25932\\2147816626.py:6: FutureWarning: The 'delim_whitespace' keyword in pd.read_csv is deprecated and will be removed in a future version. Use ``sep='\\s+'`` instead\n",
      "  df_15 = pd.read_csv(\"totalLuminosity_15SolarMass.dat\", comment=\"#\", delim_whitespace=True, names=column_names)\n",
      "C:\\Users\\ichaj\\AppData\\Local\\Temp\\ipykernel_25932\\2147816626.py:7: FutureWarning: The 'delim_whitespace' keyword in pd.read_csv is deprecated and will be removed in a future version. Use ``sep='\\s+'`` instead\n",
      "  df_30 = pd.read_csv(\"totalLuminosity_30SolarMass.dat\", comment=\"#\", delim_whitespace=True, names=column_names)\n"
     ]
    }
   ],
   "source": [
    "column_names = [\n",
    "    \"tau_cc_hr\", \"E_nu_MeV\", \"Lnue\", \"Lnuebar\", \"Lnux\", \"Lnuxbar\",\n",
    "    \"Lnue_pair\", \"Lnuebar_pair\", \"Lnue_beta\", \"Lnuebar_beta\"\n",
    "]\n",
    "\n",
    "df_15 = pd.read_csv(\"totalLuminosity_15SolarMass.dat\", comment=\"#\", delim_whitespace=True, names=column_names)\n",
    "df_30 = pd.read_csv(\"totalLuminosity_30SolarMass.dat\", comment=\"#\", delim_whitespace=True, names=column_names)\n"
   ]
  },
  {
   "cell_type": "code",
   "execution_count": 13,
   "id": "1ee61ff0-298d-48ed-a413-d0d64475fe85",
   "metadata": {},
   "outputs": [
    {
     "ename": "NameError",
     "evalue": "name 'df_15' is not defined",
     "output_type": "error",
     "traceback": [
      "\u001b[1;31m---------------------------------------------------------------------------\u001b[0m",
      "\u001b[1;31mNameError\u001b[0m                                 Traceback (most recent call last)",
      "Cell \u001b[1;32mIn[13], line 36\u001b[0m\n\u001b[0;32m     33\u001b[0m     plt\u001b[38;5;241m.\u001b[39mshow()\n\u001b[0;32m     35\u001b[0m \u001b[38;5;66;03m# Plot for both stars\u001b[39;00m\n\u001b[1;32m---> 36\u001b[0m plot_luminosity_vs_energy(\u001b[43mdf_15\u001b[49m, \u001b[38;5;124m\"\u001b[39m\u001b[38;5;124mLuminosity vs. Energy — 15 Solar Mass Star\u001b[39m\u001b[38;5;124m\"\u001b[39m)\n\u001b[0;32m     37\u001b[0m plot_luminosity_vs_energy(df_30, \u001b[38;5;124m\"\u001b[39m\u001b[38;5;124mLuminosity vs. Energy — 30 Solar Mass Star\u001b[39m\u001b[38;5;124m\"\u001b[39m)\n",
      "\u001b[1;31mNameError\u001b[0m: name 'df_15' is not defined"
     ]
    }
   ],
   "source": [
    "import matplotlib.pyplot as plt\n",
    "\n",
    "# Function to plot luminosity vs energy for a given time window\n",
    "def plot_luminosity_vs_energy(df, title):\n",
    "    latest_time = df['tau_cc_hr'].min()  # closest to collapse\n",
    "    earliest_time = df['tau_cc_hr'].max()  # earliest\n",
    "\n",
    "    fig, ax = plt.subplots(1, 2, figsize=(14, 5), sharey=True)\n",
    "\n",
    "    # Near-collapse snapshot\n",
    "    near_collapse = df[df['tau_cc_hr'] < 0.001]\n",
    "    ax[0].plot(near_collapse[\"E_nu_MeV\"], near_collapse[\"Lnue\"], label=\"νe\")\n",
    "    ax[0].plot(near_collapse[\"E_nu_MeV\"], near_collapse[\"Lnuebar\"], label=\"ν̄e\")\n",
    "    ax[0].plot(near_collapse[\"E_nu_MeV\"], near_collapse[\"Lnux\"], label=\"νx\")\n",
    "    ax[0].set_title(\"Near Collapse (< 3.6 sec)\")\n",
    "    ax[0].set_xlabel(\"Neutrino Energy (MeV)\")\n",
    "    ax[0].set_ylabel(\"Luminosity (1/MeV/s)\")\n",
    "    ax[0].legend()\n",
    "    ax[0].grid(True)\n",
    "\n",
    "    # Far-from-collapse snapshot\n",
    "    far = df[df['tau_cc_hr'] > earliest_time - 0.1]\n",
    "    ax[1].plot(far[\"E_nu_MeV\"], far[\"Lnue\"], label=\"νe\")\n",
    "    ax[1].plot(far[\"E_nu_MeV\"], far[\"Lnuebar\"], label=\"ν̄e\")\n",
    "    ax[1].plot(far[\"E_nu_MeV\"], far[\"Lnux\"], label=\"νx\")\n",
    "    ax[1].set_title(\"Far from Collapse (oldest record)\")\n",
    "    ax[1].set_xlabel(\"Neutrino Energy (MeV)\")\n",
    "    ax[1].legend()\n",
    "    ax[1].grid(True)\n",
    "\n",
    "    fig.suptitle(title, fontsize=14)\n",
    "    plt.tight_layout()\n",
    "    plt.show()\n",
    "\n",
    "# Plot for both stars\n",
    "plot_luminosity_vs_energy(df_15, \"Luminosity vs. Energy — 15 Solar Mass Star\")\n",
    "plot_luminosity_vs_energy(df_30, \"Luminosity vs. Energy — 30 Solar Mass Star\")\n"
   ]
  },
  {
   "cell_type": "code",
   "execution_count": 16,
   "id": "aaea4d2c-958c-4f6f-afb6-a1a2e6dff2e2",
   "metadata": {},
   "outputs": [
    {
     "name": "stderr",
     "output_type": "stream",
     "text": [
      "C:\\Users\\ichaj\\AppData\\Local\\Temp\\ipykernel_25932\\3281066733.py:13: FutureWarning: The 'delim_whitespace' keyword in pd.read_csv is deprecated and will be removed in a future version. Use ``sep='\\s+'`` instead\n",
      "  df_15 = pd.read_csv(\"/mnt/data/totalLuminosity_15SolarMass.dat\", comment=\"#\", delim_whitespace=True, names=column_names)\n"
     ]
    },
    {
     "ename": "FileNotFoundError",
     "evalue": "[Errno 2] No such file or directory: '/mnt/data/totalLuminosity_15SolarMass.dat'",
     "output_type": "error",
     "traceback": [
      "\u001b[1;31m---------------------------------------------------------------------------\u001b[0m",
      "\u001b[1;31mFileNotFoundError\u001b[0m                         Traceback (most recent call last)",
      "Cell \u001b[1;32mIn[16], line 13\u001b[0m\n\u001b[0;32m      7\u001b[0m column_names \u001b[38;5;241m=\u001b[39m [\n\u001b[0;32m      8\u001b[0m     \u001b[38;5;124m\"\u001b[39m\u001b[38;5;124mtau_cc_hr\u001b[39m\u001b[38;5;124m\"\u001b[39m, \u001b[38;5;124m\"\u001b[39m\u001b[38;5;124mE_nu_MeV\u001b[39m\u001b[38;5;124m\"\u001b[39m, \u001b[38;5;124m\"\u001b[39m\u001b[38;5;124mLnue\u001b[39m\u001b[38;5;124m\"\u001b[39m, \u001b[38;5;124m\"\u001b[39m\u001b[38;5;124mLnuebar\u001b[39m\u001b[38;5;124m\"\u001b[39m, \u001b[38;5;124m\"\u001b[39m\u001b[38;5;124mLnux\u001b[39m\u001b[38;5;124m\"\u001b[39m, \u001b[38;5;124m\"\u001b[39m\u001b[38;5;124mLnuxbar\u001b[39m\u001b[38;5;124m\"\u001b[39m,\n\u001b[0;32m      9\u001b[0m     \u001b[38;5;124m\"\u001b[39m\u001b[38;5;124mLnue_pair\u001b[39m\u001b[38;5;124m\"\u001b[39m, \u001b[38;5;124m\"\u001b[39m\u001b[38;5;124mLnuebar_pair\u001b[39m\u001b[38;5;124m\"\u001b[39m, \u001b[38;5;124m\"\u001b[39m\u001b[38;5;124mLnue_beta\u001b[39m\u001b[38;5;124m\"\u001b[39m, \u001b[38;5;124m\"\u001b[39m\u001b[38;5;124mLnuebar_beta\u001b[39m\u001b[38;5;124m\"\u001b[39m\n\u001b[0;32m     10\u001b[0m ]\n\u001b[0;32m     12\u001b[0m \u001b[38;5;66;03m# Load the two datasets\u001b[39;00m\n\u001b[1;32m---> 13\u001b[0m df_15 \u001b[38;5;241m=\u001b[39m \u001b[43mpd\u001b[49m\u001b[38;5;241;43m.\u001b[39;49m\u001b[43mread_csv\u001b[49m\u001b[43m(\u001b[49m\u001b[38;5;124;43m\"\u001b[39;49m\u001b[38;5;124;43m/mnt/data/totalLuminosity_15SolarMass.dat\u001b[39;49m\u001b[38;5;124;43m\"\u001b[39;49m\u001b[43m,\u001b[49m\u001b[43m \u001b[49m\u001b[43mcomment\u001b[49m\u001b[38;5;241;43m=\u001b[39;49m\u001b[38;5;124;43m\"\u001b[39;49m\u001b[38;5;124;43m#\u001b[39;49m\u001b[38;5;124;43m\"\u001b[39;49m\u001b[43m,\u001b[49m\u001b[43m \u001b[49m\u001b[43mdelim_whitespace\u001b[49m\u001b[38;5;241;43m=\u001b[39;49m\u001b[38;5;28;43;01mTrue\u001b[39;49;00m\u001b[43m,\u001b[49m\u001b[43m \u001b[49m\u001b[43mnames\u001b[49m\u001b[38;5;241;43m=\u001b[39;49m\u001b[43mcolumn_names\u001b[49m\u001b[43m)\u001b[49m\n\u001b[0;32m     14\u001b[0m df_30 \u001b[38;5;241m=\u001b[39m pd\u001b[38;5;241m.\u001b[39mread_csv(\u001b[38;5;124m\"\u001b[39m\u001b[38;5;124m/mnt/data/totalLuminosity_30SolarMass.dat\u001b[39m\u001b[38;5;124m\"\u001b[39m, comment\u001b[38;5;241m=\u001b[39m\u001b[38;5;124m\"\u001b[39m\u001b[38;5;124m#\u001b[39m\u001b[38;5;124m\"\u001b[39m, delim_whitespace\u001b[38;5;241m=\u001b[39m\u001b[38;5;28;01mTrue\u001b[39;00m, names\u001b[38;5;241m=\u001b[39mcolumn_names)\n\u001b[0;32m     16\u001b[0m \u001b[38;5;66;03m# Plotting function for near vs far collapse snapshots\u001b[39;00m\n",
      "File \u001b[1;32mC:\\Python312\\Lib\\site-packages\\pandas\\io\\parsers\\readers.py:1026\u001b[0m, in \u001b[0;36mread_csv\u001b[1;34m(filepath_or_buffer, sep, delimiter, header, names, index_col, usecols, dtype, engine, converters, true_values, false_values, skipinitialspace, skiprows, skipfooter, nrows, na_values, keep_default_na, na_filter, verbose, skip_blank_lines, parse_dates, infer_datetime_format, keep_date_col, date_parser, date_format, dayfirst, cache_dates, iterator, chunksize, compression, thousands, decimal, lineterminator, quotechar, quoting, doublequote, escapechar, comment, encoding, encoding_errors, dialect, on_bad_lines, delim_whitespace, low_memory, memory_map, float_precision, storage_options, dtype_backend)\u001b[0m\n\u001b[0;32m   1013\u001b[0m kwds_defaults \u001b[38;5;241m=\u001b[39m _refine_defaults_read(\n\u001b[0;32m   1014\u001b[0m     dialect,\n\u001b[0;32m   1015\u001b[0m     delimiter,\n\u001b[1;32m   (...)\u001b[0m\n\u001b[0;32m   1022\u001b[0m     dtype_backend\u001b[38;5;241m=\u001b[39mdtype_backend,\n\u001b[0;32m   1023\u001b[0m )\n\u001b[0;32m   1024\u001b[0m kwds\u001b[38;5;241m.\u001b[39mupdate(kwds_defaults)\n\u001b[1;32m-> 1026\u001b[0m \u001b[38;5;28;01mreturn\u001b[39;00m \u001b[43m_read\u001b[49m\u001b[43m(\u001b[49m\u001b[43mfilepath_or_buffer\u001b[49m\u001b[43m,\u001b[49m\u001b[43m \u001b[49m\u001b[43mkwds\u001b[49m\u001b[43m)\u001b[49m\n",
      "File \u001b[1;32mC:\\Python312\\Lib\\site-packages\\pandas\\io\\parsers\\readers.py:620\u001b[0m, in \u001b[0;36m_read\u001b[1;34m(filepath_or_buffer, kwds)\u001b[0m\n\u001b[0;32m    617\u001b[0m _validate_names(kwds\u001b[38;5;241m.\u001b[39mget(\u001b[38;5;124m\"\u001b[39m\u001b[38;5;124mnames\u001b[39m\u001b[38;5;124m\"\u001b[39m, \u001b[38;5;28;01mNone\u001b[39;00m))\n\u001b[0;32m    619\u001b[0m \u001b[38;5;66;03m# Create the parser.\u001b[39;00m\n\u001b[1;32m--> 620\u001b[0m parser \u001b[38;5;241m=\u001b[39m \u001b[43mTextFileReader\u001b[49m\u001b[43m(\u001b[49m\u001b[43mfilepath_or_buffer\u001b[49m\u001b[43m,\u001b[49m\u001b[43m \u001b[49m\u001b[38;5;241;43m*\u001b[39;49m\u001b[38;5;241;43m*\u001b[39;49m\u001b[43mkwds\u001b[49m\u001b[43m)\u001b[49m\n\u001b[0;32m    622\u001b[0m \u001b[38;5;28;01mif\u001b[39;00m chunksize \u001b[38;5;129;01mor\u001b[39;00m iterator:\n\u001b[0;32m    623\u001b[0m     \u001b[38;5;28;01mreturn\u001b[39;00m parser\n",
      "File \u001b[1;32mC:\\Python312\\Lib\\site-packages\\pandas\\io\\parsers\\readers.py:1620\u001b[0m, in \u001b[0;36mTextFileReader.__init__\u001b[1;34m(self, f, engine, **kwds)\u001b[0m\n\u001b[0;32m   1617\u001b[0m     \u001b[38;5;28mself\u001b[39m\u001b[38;5;241m.\u001b[39moptions[\u001b[38;5;124m\"\u001b[39m\u001b[38;5;124mhas_index_names\u001b[39m\u001b[38;5;124m\"\u001b[39m] \u001b[38;5;241m=\u001b[39m kwds[\u001b[38;5;124m\"\u001b[39m\u001b[38;5;124mhas_index_names\u001b[39m\u001b[38;5;124m\"\u001b[39m]\n\u001b[0;32m   1619\u001b[0m \u001b[38;5;28mself\u001b[39m\u001b[38;5;241m.\u001b[39mhandles: IOHandles \u001b[38;5;241m|\u001b[39m \u001b[38;5;28;01mNone\u001b[39;00m \u001b[38;5;241m=\u001b[39m \u001b[38;5;28;01mNone\u001b[39;00m\n\u001b[1;32m-> 1620\u001b[0m \u001b[38;5;28mself\u001b[39m\u001b[38;5;241m.\u001b[39m_engine \u001b[38;5;241m=\u001b[39m \u001b[38;5;28;43mself\u001b[39;49m\u001b[38;5;241;43m.\u001b[39;49m\u001b[43m_make_engine\u001b[49m\u001b[43m(\u001b[49m\u001b[43mf\u001b[49m\u001b[43m,\u001b[49m\u001b[43m \u001b[49m\u001b[38;5;28;43mself\u001b[39;49m\u001b[38;5;241;43m.\u001b[39;49m\u001b[43mengine\u001b[49m\u001b[43m)\u001b[49m\n",
      "File \u001b[1;32mC:\\Python312\\Lib\\site-packages\\pandas\\io\\parsers\\readers.py:1880\u001b[0m, in \u001b[0;36mTextFileReader._make_engine\u001b[1;34m(self, f, engine)\u001b[0m\n\u001b[0;32m   1878\u001b[0m     \u001b[38;5;28;01mif\u001b[39;00m \u001b[38;5;124m\"\u001b[39m\u001b[38;5;124mb\u001b[39m\u001b[38;5;124m\"\u001b[39m \u001b[38;5;129;01mnot\u001b[39;00m \u001b[38;5;129;01min\u001b[39;00m mode:\n\u001b[0;32m   1879\u001b[0m         mode \u001b[38;5;241m+\u001b[39m\u001b[38;5;241m=\u001b[39m \u001b[38;5;124m\"\u001b[39m\u001b[38;5;124mb\u001b[39m\u001b[38;5;124m\"\u001b[39m\n\u001b[1;32m-> 1880\u001b[0m \u001b[38;5;28mself\u001b[39m\u001b[38;5;241m.\u001b[39mhandles \u001b[38;5;241m=\u001b[39m \u001b[43mget_handle\u001b[49m\u001b[43m(\u001b[49m\n\u001b[0;32m   1881\u001b[0m \u001b[43m    \u001b[49m\u001b[43mf\u001b[49m\u001b[43m,\u001b[49m\n\u001b[0;32m   1882\u001b[0m \u001b[43m    \u001b[49m\u001b[43mmode\u001b[49m\u001b[43m,\u001b[49m\n\u001b[0;32m   1883\u001b[0m \u001b[43m    \u001b[49m\u001b[43mencoding\u001b[49m\u001b[38;5;241;43m=\u001b[39;49m\u001b[38;5;28;43mself\u001b[39;49m\u001b[38;5;241;43m.\u001b[39;49m\u001b[43moptions\u001b[49m\u001b[38;5;241;43m.\u001b[39;49m\u001b[43mget\u001b[49m\u001b[43m(\u001b[49m\u001b[38;5;124;43m\"\u001b[39;49m\u001b[38;5;124;43mencoding\u001b[39;49m\u001b[38;5;124;43m\"\u001b[39;49m\u001b[43m,\u001b[49m\u001b[43m \u001b[49m\u001b[38;5;28;43;01mNone\u001b[39;49;00m\u001b[43m)\u001b[49m\u001b[43m,\u001b[49m\n\u001b[0;32m   1884\u001b[0m \u001b[43m    \u001b[49m\u001b[43mcompression\u001b[49m\u001b[38;5;241;43m=\u001b[39;49m\u001b[38;5;28;43mself\u001b[39;49m\u001b[38;5;241;43m.\u001b[39;49m\u001b[43moptions\u001b[49m\u001b[38;5;241;43m.\u001b[39;49m\u001b[43mget\u001b[49m\u001b[43m(\u001b[49m\u001b[38;5;124;43m\"\u001b[39;49m\u001b[38;5;124;43mcompression\u001b[39;49m\u001b[38;5;124;43m\"\u001b[39;49m\u001b[43m,\u001b[49m\u001b[43m \u001b[49m\u001b[38;5;28;43;01mNone\u001b[39;49;00m\u001b[43m)\u001b[49m\u001b[43m,\u001b[49m\n\u001b[0;32m   1885\u001b[0m \u001b[43m    \u001b[49m\u001b[43mmemory_map\u001b[49m\u001b[38;5;241;43m=\u001b[39;49m\u001b[38;5;28;43mself\u001b[39;49m\u001b[38;5;241;43m.\u001b[39;49m\u001b[43moptions\u001b[49m\u001b[38;5;241;43m.\u001b[39;49m\u001b[43mget\u001b[49m\u001b[43m(\u001b[49m\u001b[38;5;124;43m\"\u001b[39;49m\u001b[38;5;124;43mmemory_map\u001b[39;49m\u001b[38;5;124;43m\"\u001b[39;49m\u001b[43m,\u001b[49m\u001b[43m \u001b[49m\u001b[38;5;28;43;01mFalse\u001b[39;49;00m\u001b[43m)\u001b[49m\u001b[43m,\u001b[49m\n\u001b[0;32m   1886\u001b[0m \u001b[43m    \u001b[49m\u001b[43mis_text\u001b[49m\u001b[38;5;241;43m=\u001b[39;49m\u001b[43mis_text\u001b[49m\u001b[43m,\u001b[49m\n\u001b[0;32m   1887\u001b[0m \u001b[43m    \u001b[49m\u001b[43merrors\u001b[49m\u001b[38;5;241;43m=\u001b[39;49m\u001b[38;5;28;43mself\u001b[39;49m\u001b[38;5;241;43m.\u001b[39;49m\u001b[43moptions\u001b[49m\u001b[38;5;241;43m.\u001b[39;49m\u001b[43mget\u001b[49m\u001b[43m(\u001b[49m\u001b[38;5;124;43m\"\u001b[39;49m\u001b[38;5;124;43mencoding_errors\u001b[39;49m\u001b[38;5;124;43m\"\u001b[39;49m\u001b[43m,\u001b[49m\u001b[43m \u001b[49m\u001b[38;5;124;43m\"\u001b[39;49m\u001b[38;5;124;43mstrict\u001b[39;49m\u001b[38;5;124;43m\"\u001b[39;49m\u001b[43m)\u001b[49m\u001b[43m,\u001b[49m\n\u001b[0;32m   1888\u001b[0m \u001b[43m    \u001b[49m\u001b[43mstorage_options\u001b[49m\u001b[38;5;241;43m=\u001b[39;49m\u001b[38;5;28;43mself\u001b[39;49m\u001b[38;5;241;43m.\u001b[39;49m\u001b[43moptions\u001b[49m\u001b[38;5;241;43m.\u001b[39;49m\u001b[43mget\u001b[49m\u001b[43m(\u001b[49m\u001b[38;5;124;43m\"\u001b[39;49m\u001b[38;5;124;43mstorage_options\u001b[39;49m\u001b[38;5;124;43m\"\u001b[39;49m\u001b[43m,\u001b[49m\u001b[43m \u001b[49m\u001b[38;5;28;43;01mNone\u001b[39;49;00m\u001b[43m)\u001b[49m\u001b[43m,\u001b[49m\n\u001b[0;32m   1889\u001b[0m \u001b[43m\u001b[49m\u001b[43m)\u001b[49m\n\u001b[0;32m   1890\u001b[0m \u001b[38;5;28;01massert\u001b[39;00m \u001b[38;5;28mself\u001b[39m\u001b[38;5;241m.\u001b[39mhandles \u001b[38;5;129;01mis\u001b[39;00m \u001b[38;5;129;01mnot\u001b[39;00m \u001b[38;5;28;01mNone\u001b[39;00m\n\u001b[0;32m   1891\u001b[0m f \u001b[38;5;241m=\u001b[39m \u001b[38;5;28mself\u001b[39m\u001b[38;5;241m.\u001b[39mhandles\u001b[38;5;241m.\u001b[39mhandle\n",
      "File \u001b[1;32mC:\\Python312\\Lib\\site-packages\\pandas\\io\\common.py:873\u001b[0m, in \u001b[0;36mget_handle\u001b[1;34m(path_or_buf, mode, encoding, compression, memory_map, is_text, errors, storage_options)\u001b[0m\n\u001b[0;32m    868\u001b[0m \u001b[38;5;28;01melif\u001b[39;00m \u001b[38;5;28misinstance\u001b[39m(handle, \u001b[38;5;28mstr\u001b[39m):\n\u001b[0;32m    869\u001b[0m     \u001b[38;5;66;03m# Check whether the filename is to be opened in binary mode.\u001b[39;00m\n\u001b[0;32m    870\u001b[0m     \u001b[38;5;66;03m# Binary mode does not support 'encoding' and 'newline'.\u001b[39;00m\n\u001b[0;32m    871\u001b[0m     \u001b[38;5;28;01mif\u001b[39;00m ioargs\u001b[38;5;241m.\u001b[39mencoding \u001b[38;5;129;01mand\u001b[39;00m \u001b[38;5;124m\"\u001b[39m\u001b[38;5;124mb\u001b[39m\u001b[38;5;124m\"\u001b[39m \u001b[38;5;129;01mnot\u001b[39;00m \u001b[38;5;129;01min\u001b[39;00m ioargs\u001b[38;5;241m.\u001b[39mmode:\n\u001b[0;32m    872\u001b[0m         \u001b[38;5;66;03m# Encoding\u001b[39;00m\n\u001b[1;32m--> 873\u001b[0m         handle \u001b[38;5;241m=\u001b[39m \u001b[38;5;28;43mopen\u001b[39;49m\u001b[43m(\u001b[49m\n\u001b[0;32m    874\u001b[0m \u001b[43m            \u001b[49m\u001b[43mhandle\u001b[49m\u001b[43m,\u001b[49m\n\u001b[0;32m    875\u001b[0m \u001b[43m            \u001b[49m\u001b[43mioargs\u001b[49m\u001b[38;5;241;43m.\u001b[39;49m\u001b[43mmode\u001b[49m\u001b[43m,\u001b[49m\n\u001b[0;32m    876\u001b[0m \u001b[43m            \u001b[49m\u001b[43mencoding\u001b[49m\u001b[38;5;241;43m=\u001b[39;49m\u001b[43mioargs\u001b[49m\u001b[38;5;241;43m.\u001b[39;49m\u001b[43mencoding\u001b[49m\u001b[43m,\u001b[49m\n\u001b[0;32m    877\u001b[0m \u001b[43m            \u001b[49m\u001b[43merrors\u001b[49m\u001b[38;5;241;43m=\u001b[39;49m\u001b[43merrors\u001b[49m\u001b[43m,\u001b[49m\n\u001b[0;32m    878\u001b[0m \u001b[43m            \u001b[49m\u001b[43mnewline\u001b[49m\u001b[38;5;241;43m=\u001b[39;49m\u001b[38;5;124;43m\"\u001b[39;49m\u001b[38;5;124;43m\"\u001b[39;49m\u001b[43m,\u001b[49m\n\u001b[0;32m    879\u001b[0m \u001b[43m        \u001b[49m\u001b[43m)\u001b[49m\n\u001b[0;32m    880\u001b[0m     \u001b[38;5;28;01melse\u001b[39;00m:\n\u001b[0;32m    881\u001b[0m         \u001b[38;5;66;03m# Binary mode\u001b[39;00m\n\u001b[0;32m    882\u001b[0m         handle \u001b[38;5;241m=\u001b[39m \u001b[38;5;28mopen\u001b[39m(handle, ioargs\u001b[38;5;241m.\u001b[39mmode)\n",
      "\u001b[1;31mFileNotFoundError\u001b[0m: [Errno 2] No such file or directory: '/mnt/data/totalLuminosity_15SolarMass.dat'"
     ]
    }
   ],
   "source": [
    "# Combined full Jupyter-ready block: Load both files and plot luminosity vs energy snapshots\n",
    "\n",
    "import pandas as pd\n",
    "import matplotlib.pyplot as plt\n",
    "\n",
    "# Define column headers based on file structure\n",
    "column_names = [\n",
    "    \"tau_cc_hr\", \"E_nu_MeV\", \"Lnue\", \"Lnuebar\", \"Lnux\", \"Lnuxbar\",\n",
    "    \"Lnue_pair\", \"Lnuebar_pair\", \"Lnue_beta\", \"Lnuebar_beta\"\n",
    "]\n",
    "\n",
    "# Load the two datasets\n",
    "df_15 = pd.read_csv(\"/mnt/data/totalLuminosity_15SolarMass.dat\", comment=\"#\", delim_whitespace=True, names=column_names)\n",
    "df_30 = pd.read_csv(\"/mnt/data/totalLuminosity_30SolarMass.dat\", comment=\"#\", delim_whitespace=True, names=column_names)\n",
    "\n",
    "# Plotting function for near vs far collapse snapshots\n",
    "def plot_luminosity_vs_energy(df, title):\n",
    "    latest_time = df['tau_cc_hr'].min()  # closest to collapse\n",
    "    earliest_time = df['tau_cc_hr'].max()  # earliest\n",
    "\n",
    "    fig, ax = plt.subplots(1, 2, figsize=(14, 5), sharey=True)\n",
    "\n",
    "    # Near-collapse snapshot (< 0.001 hr = 3.6 sec)\n",
    "    near_collapse = df[df['tau_cc_hr'] < 0.001]\n",
    "    ax[0].plot(near_collapse[\"E_nu_MeV\"], near_collapse[\"Lnue\"], label=\"νe\")\n",
    "    ax[0].plot(near_collapse[\"E_nu_MeV\"], near_collapse[\"Lnuebar\"], label=\"ν̄e\")\n",
    "    ax[0].plot(near_collapse[\"E_nu_MeV\"], near_collapse[\"Lnux\"], label=\"νx\")\n",
    "    ax[0].set_title(\"Near Collapse (< 3.6 sec)\")\n",
    "    ax[0].set_xlabel(\"Neutrino Energy (MeV)\")\n",
    "    ax[0].set_ylabel(\"Luminosity (1/MeV/s)\")\n",
    "    ax[0].legend()\n",
    "    ax[0].grid(True)\n",
    "\n",
    "    # Far-from-collapse snapshot (beginning of timeline)\n",
    "    far = df[df['tau_cc_hr'] > earliest_time - 0.1]\n",
    "    ax[1].plot(far[\"E_nu_MeV\"], far[\"Lnue\"], label=\"νe\")\n",
    "    ax[1].plot(far[\"E_nu_MeV\"], far[\"Lnuebar\"], label=\"ν̄e\")\n",
    "    ax[1].plot(far[\"E_nu_MeV\"], far[\"Lnux\"], label=\"νx\")\n",
    "    ax[1].set_title(\"Far from Collapse (start of data)\")\n",
    "    ax[1].set_xlabel(\"Neutrino Energy (MeV)\")\n",
    "    ax[1].legend()\n",
    "    ax[1].grid(True)\n",
    "\n",
    "    fig.suptitle(title, fontsize=14)\n",
    "    plt.tight_layout()\n",
    "    plt.show()\n",
    "\n",
    "# Run for both masses\n",
    "plot_luminosity_vs_energy(df_15, \"Luminosity vs. Energy — 15 Solar Mass Star\")\n",
    "plot_luminosity_vs_energy(df_30, \"Luminosity vs. Energy — 30 Solar Mass Star\")\n"
   ]
  },
  {
   "cell_type": "code",
   "execution_count": null,
   "id": "78092e5f-e347-4da4-adf4-0b25b3e9e6b9",
   "metadata": {},
   "outputs": [],
   "source": []
  }
 ],
 "metadata": {
  "kernelspec": {
   "display_name": "Python 3 (ipykernel)",
   "language": "python",
   "name": "python3"
  },
  "language_info": {
   "codemirror_mode": {
    "name": "ipython",
    "version": 3
   },
   "file_extension": ".py",
   "mimetype": "text/x-python",
   "name": "python",
   "nbconvert_exporter": "python",
   "pygments_lexer": "ipython3",
   "version": "3.12.9"
  }
 },
 "nbformat": 4,
 "nbformat_minor": 5
}
